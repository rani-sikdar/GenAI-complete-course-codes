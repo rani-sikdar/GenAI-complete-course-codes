{
  "nbformat": 4,
  "nbformat_minor": 0,
  "metadata": {
    "colab": {
      "provenance": [],
      "authorship_tag": "ABX9TyPTIKza3V0vNK6E6ONugwiq",
      "include_colab_link": true
    },
    "kernelspec": {
      "name": "python3",
      "display_name": "Python 3"
    },
    "language_info": {
      "name": "python"
    }
  },
  "cells": [
    {
      "cell_type": "markdown",
      "metadata": {
        "id": "view-in-github",
        "colab_type": "text"
      },
      "source": [
        "<a href=\"https://colab.research.google.com/github/rani-sikdar/GenAI-complete-course-codes/blob/main/7_BOW_bag_of_words.ipynb\" target=\"_parent\"><img src=\"https://colab.research.google.com/assets/colab-badge.svg\" alt=\"Open In Colab\"/></a>"
      ]
    },
    {
      "cell_type": "code",
      "execution_count": 1,
      "metadata": {
        "id": "lDFIM2GZkJx9"
      },
      "outputs": [],
      "source": [
        "import pandas as pd\n"
      ]
    },
    {
      "cell_type": "code",
      "source": [
        "file_ = '/content/spam_classifier_dataset.csv'"
      ],
      "metadata": {
        "id": "Hjj47-0zlPZH"
      },
      "execution_count": 2,
      "outputs": []
    },
    {
      "cell_type": "code",
      "source": [
        "messages_df = pd.read_csv(file_)"
      ],
      "metadata": {
        "id": "gn8z8sP-lPW4"
      },
      "execution_count": 3,
      "outputs": []
    },
    {
      "cell_type": "code",
      "source": [
        "messages_df['message']"
      ],
      "metadata": {
        "colab": {
          "base_uri": "https://localhost:8080/",
          "height": 458
        },
        "id": "5Cvc63HtlPT1",
        "outputId": "2cc66b78-c590-4fff-f612-7326b410fc06"
      },
      "execution_count": 4,
      "outputs": [
        {
          "output_type": "execute_result",
          "data": {
            "text/plain": [
              "0           Lunch was amazing today. We should go again!\n",
              "1      Please review the attached document and share ...\n",
              "2           Lunch was amazing today. We should go again!\n",
              "3              Just checking in. How’s everything going?\n",
              "4      Please review the attached document and share ...\n",
              "                             ...                        \n",
              "495       Happy birthday! Hope you have a wonderful day.\n",
              "496    Meeting rescheduled to 3 PM. Let me know if th...\n",
              "497    Meeting rescheduled to 3 PM. Let me know if th...\n",
              "498    FREE entry in 2 a weekly competition to win an...\n",
              "499         I’ll be late to the party, stuck in traffic.\n",
              "Name: message, Length: 500, dtype: object"
            ],
            "text/html": [
              "<div>\n",
              "<style scoped>\n",
              "    .dataframe tbody tr th:only-of-type {\n",
              "        vertical-align: middle;\n",
              "    }\n",
              "\n",
              "    .dataframe tbody tr th {\n",
              "        vertical-align: top;\n",
              "    }\n",
              "\n",
              "    .dataframe thead th {\n",
              "        text-align: right;\n",
              "    }\n",
              "</style>\n",
              "<table border=\"1\" class=\"dataframe\">\n",
              "  <thead>\n",
              "    <tr style=\"text-align: right;\">\n",
              "      <th></th>\n",
              "      <th>message</th>\n",
              "    </tr>\n",
              "  </thead>\n",
              "  <tbody>\n",
              "    <tr>\n",
              "      <th>0</th>\n",
              "      <td>Lunch was amazing today. We should go again!</td>\n",
              "    </tr>\n",
              "    <tr>\n",
              "      <th>1</th>\n",
              "      <td>Please review the attached document and share ...</td>\n",
              "    </tr>\n",
              "    <tr>\n",
              "      <th>2</th>\n",
              "      <td>Lunch was amazing today. We should go again!</td>\n",
              "    </tr>\n",
              "    <tr>\n",
              "      <th>3</th>\n",
              "      <td>Just checking in. How’s everything going?</td>\n",
              "    </tr>\n",
              "    <tr>\n",
              "      <th>4</th>\n",
              "      <td>Please review the attached document and share ...</td>\n",
              "    </tr>\n",
              "    <tr>\n",
              "      <th>...</th>\n",
              "      <td>...</td>\n",
              "    </tr>\n",
              "    <tr>\n",
              "      <th>495</th>\n",
              "      <td>Happy birthday! Hope you have a wonderful day.</td>\n",
              "    </tr>\n",
              "    <tr>\n",
              "      <th>496</th>\n",
              "      <td>Meeting rescheduled to 3 PM. Let me know if th...</td>\n",
              "    </tr>\n",
              "    <tr>\n",
              "      <th>497</th>\n",
              "      <td>Meeting rescheduled to 3 PM. Let me know if th...</td>\n",
              "    </tr>\n",
              "    <tr>\n",
              "      <th>498</th>\n",
              "      <td>FREE entry in 2 a weekly competition to win an...</td>\n",
              "    </tr>\n",
              "    <tr>\n",
              "      <th>499</th>\n",
              "      <td>I’ll be late to the party, stuck in traffic.</td>\n",
              "    </tr>\n",
              "  </tbody>\n",
              "</table>\n",
              "<p>500 rows × 1 columns</p>\n",
              "</div><br><label><b>dtype:</b> object</label>"
            ]
          },
          "metadata": {},
          "execution_count": 4
        }
      ]
    },
    {
      "cell_type": "code",
      "source": [
        "# data cleaning and preprocessing\n",
        "\n",
        "import nltk\n",
        "import re"
      ],
      "metadata": {
        "id": "kn6_PBFBlPRr"
      },
      "execution_count": 5,
      "outputs": []
    },
    {
      "cell_type": "code",
      "source": [
        "nltk.download('english')"
      ],
      "metadata": {
        "colab": {
          "base_uri": "https://localhost:8080/"
        },
        "id": "jN-ZSZCUlPPP",
        "outputId": "1f27a46f-15e3-4793-f52c-04c7276c63ba"
      },
      "execution_count": 6,
      "outputs": [
        {
          "output_type": "stream",
          "name": "stderr",
          "text": [
            "[nltk_data] Error loading english: Package 'english' not found in\n",
            "[nltk_data]     index\n"
          ]
        },
        {
          "output_type": "execute_result",
          "data": {
            "text/plain": [
              "False"
            ]
          },
          "metadata": {},
          "execution_count": 6
        }
      ]
    },
    {
      "cell_type": "code",
      "source": [
        "from nltk.corpus import stopwords\n",
        "from nltk.stem import PorterStemmer\n",
        "\n",
        "porter_stemming = PorterStemmer()"
      ],
      "metadata": {
        "id": "scvZUJC-lPMo"
      },
      "execution_count": 7,
      "outputs": []
    },
    {
      "cell_type": "code",
      "source": [
        "nltk.download('stopwords')"
      ],
      "metadata": {
        "colab": {
          "base_uri": "https://localhost:8080/"
        },
        "id": "aVLBNlFooWu6",
        "outputId": "d6d8ea3c-f3dc-4ade-ebc3-fdedfa49ebaa"
      },
      "execution_count": 8,
      "outputs": [
        {
          "output_type": "stream",
          "name": "stderr",
          "text": [
            "[nltk_data] Downloading package stopwords to /root/nltk_data...\n",
            "[nltk_data]   Unzipping corpora/stopwords.zip.\n"
          ]
        },
        {
          "output_type": "execute_result",
          "data": {
            "text/plain": [
              "True"
            ]
          },
          "metadata": {},
          "execution_count": 8
        }
      ]
    },
    {
      "cell_type": "code",
      "source": [
        "corpus =list()\n",
        "\n",
        "for i in range(len(messages_df)):\n",
        "  sentences = re.sub('[^a-zA-z]', ' ', messages_df['message'][i])\n",
        "  # print(sentences)\n",
        "\n",
        "  sentences = sentences.lower().split()\n",
        "  sentences = [porter_stemming.stem(word) for word in sentences if word not in set(stopwords.words('english'))]\n",
        "  sentences = ' '.join(sentences)\n",
        "  corpus.append(sentences)"
      ],
      "metadata": {
        "id": "8EnyFnQAlPJ6"
      },
      "execution_count": 9,
      "outputs": []
    },
    {
      "cell_type": "code",
      "source": [
        "corpus"
      ],
      "metadata": {
        "colab": {
          "base_uri": "https://localhost:8080/"
        },
        "id": "6qkph8DqlPG6",
        "outputId": "0fd8ecb8-06de-43f6-94a8-bc8cc7cfcb94"
      },
      "execution_count": 10,
      "outputs": [
        {
          "output_type": "execute_result",
          "data": {
            "text/plain": [
              "['lunch amaz today go',\n",
              " 'pleas review attach document share feedback',\n",
              " 'lunch amaz today go',\n",
              " 'check everyth go',\n",
              " 'pleas review attach document share feedback',\n",
              " 'hey still meet coffe tomorrow',\n",
              " 'hey still meet coffe tomorrow',\n",
              " 'get rich quick earn week home limit time offer',\n",
              " 'check everyth go',\n",
              " 'happi birthday hope wonder day',\n",
              " 'happi birthday hope wonder day',\n",
              " 'pleas review attach document share feedback',\n",
              " 'get rich quick earn week home limit time offer',\n",
              " 'lunch amaz today go',\n",
              " 'lunch amaz today go',\n",
              " 'get credit score boost instantli sign',\n",
              " 'free entri weekli competit win ipad text win',\n",
              " 'happi birthday hope wonder day',\n",
              " 'check everyth go',\n",
              " 'late parti stuck traffic',\n",
              " 'get credit score boost instantli sign',\n",
              " 'great time concert last night',\n",
              " 'great time concert last night',\n",
              " 'hey still meet coffe tomorrow',\n",
              " 'get credit score boost instantli sign',\n",
              " 'lunch amaz today go',\n",
              " 'late parti stuck traffic',\n",
              " 'lunch amaz today go',\n",
              " 'urgent lotteri contact us receiv',\n",
              " 'pleas review attach document share feedback',\n",
              " 'hey still meet coffe tomorrow',\n",
              " 'lunch amaz today go',\n",
              " 'late parti stuck traffic',\n",
              " 'meet reschedul pm let know work',\n",
              " 'forget submit assign tonight',\n",
              " 'late parti stuck traffic',\n",
              " 'forget submit assign tonight',\n",
              " 'pleas review attach document share feedback',\n",
              " 'forget submit assign tonight',\n",
              " 'late parti stuck traffic',\n",
              " 'pleas review attach document share feedback',\n",
              " 'send file discuss',\n",
              " 'free entri weekli competit win ipad text win',\n",
              " 'send file discuss',\n",
              " 'free entri weekli competit win ipad text win',\n",
              " 'pleas review attach document share feedback',\n",
              " 'late parti stuck traffic',\n",
              " 'free entri weekli competit win ipad text win',\n",
              " 'hey still meet coffe tomorrow',\n",
              " 'forget submit assign tonight',\n",
              " 'late parti stuck traffic',\n",
              " 'pleas review attach document share feedback',\n",
              " 'happi birthday hope wonder day',\n",
              " 'check everyth go',\n",
              " 'check everyth go',\n",
              " 'send file discuss',\n",
              " 'send file discuss',\n",
              " 'exclus deal buy one get one free hurri',\n",
              " 'late parti stuck traffic',\n",
              " 'hey still meet coffe tomorrow',\n",
              " 'pleas review attach document share feedback',\n",
              " 'send file discuss',\n",
              " 'late parti stuck traffic',\n",
              " 'send file discuss',\n",
              " 'forget submit assign tonight',\n",
              " 'late parti stuck traffic',\n",
              " 'lunch amaz today go',\n",
              " 'meet reschedul pm let know work',\n",
              " 'send file discuss',\n",
              " 'lunch amaz today go',\n",
              " 'urgent lotteri contact us receiv',\n",
              " 'late parti stuck traffic',\n",
              " 'hey still meet coffe tomorrow',\n",
              " 'hey still meet coffe tomorrow',\n",
              " 'great time concert last night',\n",
              " 'pleas review attach document share feedback',\n",
              " 'check everyth go',\n",
              " 'forget submit assign tonight',\n",
              " 'claim free holiday limit spot avail',\n",
              " 'hey still meet coffe tomorrow',\n",
              " 'meet reschedul pm let know work',\n",
              " 'check everyth go',\n",
              " 'great time concert last night',\n",
              " 'great time concert last night',\n",
              " 'scam realli big act fast',\n",
              " 'late parti stuck traffic',\n",
              " 'forget submit assign tonight',\n",
              " 'great time concert last night',\n",
              " 'exclus deal buy one get one free hurri',\n",
              " 'pleas review attach document share feedback',\n",
              " 'free entri weekli competit win ipad text win',\n",
              " 'scam realli big act fast',\n",
              " 'hey still meet coffe tomorrow',\n",
              " 'send file discuss',\n",
              " 'forget submit assign tonight',\n",
              " 'happi birthday hope wonder day',\n",
              " 'happi birthday hope wonder day',\n",
              " 'late parti stuck traffic',\n",
              " 'happi birthday hope wonder day',\n",
              " 'check everyth go',\n",
              " 'late parti stuck traffic',\n",
              " 'free entri weekli competit win ipad text win',\n",
              " 'claim free holiday limit spot avail',\n",
              " 'claim free holiday limit spot avail',\n",
              " 'free entri weekli competit win ipad text win',\n",
              " 'great time concert last night',\n",
              " 'send file discuss',\n",
              " 'send file discuss',\n",
              " 'lunch amaz today go',\n",
              " 'lunch amaz today go',\n",
              " 'congratul free iphon click claim',\n",
              " 'pleas review attach document share feedback',\n",
              " 'pleas review attach document share feedback',\n",
              " 'get credit score boost instantli sign',\n",
              " 'check everyth go',\n",
              " 'check everyth go',\n",
              " 'lunch amaz today go',\n",
              " 'get rich quick earn week home limit time offer',\n",
              " 'happi birthday hope wonder day',\n",
              " 'select walmart gift card click',\n",
              " 'late parti stuck traffic',\n",
              " 'send file discuss',\n",
              " 'lunch amaz today go',\n",
              " 'great time concert last night',\n",
              " 'hey still meet coffe tomorrow',\n",
              " 'pleas review attach document share feedback',\n",
              " 'pleas review attach document share feedback',\n",
              " 'hey still meet coffe tomorrow',\n",
              " 'lunch amaz today go',\n",
              " 'hey still meet coffe tomorrow',\n",
              " 'congratul free iphon click claim',\n",
              " 'happi birthday hope wonder day',\n",
              " 'pleas review attach document share feedback',\n",
              " 'pleas review attach document share feedback',\n",
              " 'forget submit assign tonight',\n",
              " 'exclus deal buy one get one free hurri',\n",
              " 'select walmart gift card click',\n",
              " 'hey still meet coffe tomorrow',\n",
              " 'send file discuss',\n",
              " 'hey still meet coffe tomorrow',\n",
              " 'happi birthday hope wonder day',\n",
              " 'pleas review attach document share feedback',\n",
              " 'select walmart gift card click',\n",
              " 'forget submit assign tonight',\n",
              " 'happi birthday hope wonder day',\n",
              " 'late parti stuck traffic',\n",
              " 'congratul free iphon click claim',\n",
              " 'send file discuss',\n",
              " 'hey still meet coffe tomorrow',\n",
              " 'hey still meet coffe tomorrow',\n",
              " 'claim free holiday limit spot avail',\n",
              " 'forget submit assign tonight',\n",
              " 'late parti stuck traffic',\n",
              " 'lunch amaz today go',\n",
              " 'happi birthday hope wonder day',\n",
              " 'lunch amaz today go',\n",
              " 'meet reschedul pm let know work',\n",
              " 'late parti stuck traffic',\n",
              " 'hey still meet coffe tomorrow',\n",
              " 'account suspend verifi detail immedi',\n",
              " 'account suspend verifi detail immedi',\n",
              " 'great time concert last night',\n",
              " 'pleas review attach document share feedback',\n",
              " 'pleas review attach document share feedback',\n",
              " 'hey still meet coffe tomorrow',\n",
              " 'send file discuss',\n",
              " 'late parti stuck traffic',\n",
              " 'meet reschedul pm let know work',\n",
              " 'happi birthday hope wonder day',\n",
              " 'get credit score boost instantli sign',\n",
              " 'great time concert last night',\n",
              " 'forget submit assign tonight',\n",
              " 'late parti stuck traffic',\n",
              " 'lunch amaz today go',\n",
              " 'claim free holiday limit spot avail',\n",
              " 'forget submit assign tonight',\n",
              " 'hey still meet coffe tomorrow',\n",
              " 'pleas review attach document share feedback',\n",
              " 'great time concert last night',\n",
              " 'hey still meet coffe tomorrow',\n",
              " 'pleas review attach document share feedback',\n",
              " 'exclus deal buy one get one free hurri',\n",
              " 'lunch amaz today go',\n",
              " 'great time concert last night',\n",
              " 'select walmart gift card click',\n",
              " 'great time concert last night',\n",
              " 'great time concert last night',\n",
              " 'urgent lotteri contact us receiv',\n",
              " 'check everyth go',\n",
              " 'lunch amaz today go',\n",
              " 'meet reschedul pm let know work',\n",
              " 'free entri weekli competit win ipad text win',\n",
              " 'great time concert last night',\n",
              " 'pleas review attach document share feedback',\n",
              " 'meet reschedul pm let know work',\n",
              " 'send file discuss',\n",
              " 'check everyth go',\n",
              " 'happi birthday hope wonder day',\n",
              " 'lunch amaz today go',\n",
              " 'meet reschedul pm let know work',\n",
              " 'check everyth go',\n",
              " 'happi birthday hope wonder day',\n",
              " 'meet reschedul pm let know work',\n",
              " 'happi birthday hope wonder day',\n",
              " 'pleas review attach document share feedback',\n",
              " 'pleas review attach document share feedback',\n",
              " 'send file discuss',\n",
              " 'pleas review attach document share feedback',\n",
              " 'free entri weekli competit win ipad text win',\n",
              " 'meet reschedul pm let know work',\n",
              " 'hey still meet coffe tomorrow',\n",
              " 'meet reschedul pm let know work',\n",
              " 'check everyth go',\n",
              " 'hey still meet coffe tomorrow',\n",
              " 'check everyth go',\n",
              " 'late parti stuck traffic',\n",
              " 'check everyth go',\n",
              " 'lunch amaz today go',\n",
              " 'forget submit assign tonight',\n",
              " 'get credit score boost instantli sign',\n",
              " 'check everyth go',\n",
              " 'pleas review attach document share feedback',\n",
              " 'great time concert last night',\n",
              " 'lunch amaz today go',\n",
              " 'lunch amaz today go',\n",
              " 'forget submit assign tonight',\n",
              " 'lunch amaz today go',\n",
              " 'check everyth go',\n",
              " 'hey still meet coffe tomorrow',\n",
              " 'meet reschedul pm let know work',\n",
              " 'happi birthday hope wonder day',\n",
              " 'pleas review attach document share feedback',\n",
              " 'great time concert last night',\n",
              " 'happi birthday hope wonder day',\n",
              " 'hey still meet coffe tomorrow',\n",
              " 'meet reschedul pm let know work',\n",
              " 'get rich quick earn week home limit time offer',\n",
              " 'meet reschedul pm let know work',\n",
              " 'pleas review attach document share feedback',\n",
              " 'meet reschedul pm let know work',\n",
              " 'account suspend verifi detail immedi',\n",
              " 'late parti stuck traffic',\n",
              " 'send file discuss',\n",
              " 'account suspend verifi detail immedi',\n",
              " 'hey still meet coffe tomorrow',\n",
              " 'exclus deal buy one get one free hurri',\n",
              " 'late parti stuck traffic',\n",
              " 'great time concert last night',\n",
              " 'exclus deal buy one get one free hurri',\n",
              " 'hey still meet coffe tomorrow',\n",
              " 'pleas review attach document share feedback',\n",
              " 'hey still meet coffe tomorrow',\n",
              " 'late parti stuck traffic',\n",
              " 'hey still meet coffe tomorrow',\n",
              " 'exclus deal buy one get one free hurri',\n",
              " 'great time concert last night',\n",
              " 'late parti stuck traffic',\n",
              " 'scam realli big act fast',\n",
              " 'happi birthday hope wonder day',\n",
              " 'send file discuss',\n",
              " 'hey still meet coffe tomorrow',\n",
              " 'great time concert last night',\n",
              " 'pleas review attach document share feedback',\n",
              " 'pleas review attach document share feedback',\n",
              " 'forget submit assign tonight',\n",
              " 'lunch amaz today go',\n",
              " 'check everyth go',\n",
              " 'get rich quick earn week home limit time offer',\n",
              " 'late parti stuck traffic',\n",
              " 'meet reschedul pm let know work',\n",
              " 'happi birthday hope wonder day',\n",
              " 'great time concert last night',\n",
              " 'get rich quick earn week home limit time offer',\n",
              " 'get credit score boost instantli sign',\n",
              " 'happi birthday hope wonder day',\n",
              " 'late parti stuck traffic',\n",
              " 'scam realli big act fast',\n",
              " 'send file discuss',\n",
              " 'happi birthday hope wonder day',\n",
              " 'pleas review attach document share feedback',\n",
              " 'hey still meet coffe tomorrow',\n",
              " 'meet reschedul pm let know work',\n",
              " 'scam realli big act fast',\n",
              " 'free entri weekli competit win ipad text win',\n",
              " 'send file discuss',\n",
              " 'lunch amaz today go',\n",
              " 'get credit score boost instantli sign',\n",
              " 'check everyth go',\n",
              " 'scam realli big act fast',\n",
              " 'happi birthday hope wonder day',\n",
              " 'hey still meet coffe tomorrow',\n",
              " 'late parti stuck traffic',\n",
              " 'pleas review attach document share feedback',\n",
              " 'great time concert last night',\n",
              " 'hey still meet coffe tomorrow',\n",
              " 'claim free holiday limit spot avail',\n",
              " 'meet reschedul pm let know work',\n",
              " 'happi birthday hope wonder day',\n",
              " 'happi birthday hope wonder day',\n",
              " 'happi birthday hope wonder day',\n",
              " 'hey still meet coffe tomorrow',\n",
              " 'late parti stuck traffic',\n",
              " 'urgent lotteri contact us receiv',\n",
              " 'late parti stuck traffic',\n",
              " 'forget submit assign tonight',\n",
              " 'meet reschedul pm let know work',\n",
              " 'great time concert last night',\n",
              " 'forget submit assign tonight',\n",
              " 'forget submit assign tonight',\n",
              " 'hey still meet coffe tomorrow',\n",
              " 'great time concert last night',\n",
              " 'late parti stuck traffic',\n",
              " 'meet reschedul pm let know work',\n",
              " 'forget submit assign tonight',\n",
              " 'lunch amaz today go',\n",
              " 'pleas review attach document share feedback',\n",
              " 'scam realli big act fast',\n",
              " 'meet reschedul pm let know work',\n",
              " 'lunch amaz today go',\n",
              " 'send file discuss',\n",
              " 'check everyth go',\n",
              " 'pleas review attach document share feedback',\n",
              " 'free entri weekli competit win ipad text win',\n",
              " 'select walmart gift card click',\n",
              " 'meet reschedul pm let know work',\n",
              " 'happi birthday hope wonder day',\n",
              " 'lunch amaz today go',\n",
              " 'forget submit assign tonight',\n",
              " 'select walmart gift card click',\n",
              " 'send file discuss',\n",
              " 'late parti stuck traffic',\n",
              " 'lunch amaz today go',\n",
              " 'happi birthday hope wonder day',\n",
              " 'lunch amaz today go',\n",
              " 'congratul free iphon click claim',\n",
              " 'forget submit assign tonight',\n",
              " 'great time concert last night',\n",
              " 'pleas review attach document share feedback',\n",
              " 'check everyth go',\n",
              " 'happi birthday hope wonder day',\n",
              " 'check everyth go',\n",
              " 'urgent lotteri contact us receiv',\n",
              " 'pleas review attach document share feedback',\n",
              " 'pleas review attach document share feedback',\n",
              " 'meet reschedul pm let know work',\n",
              " 'claim free holiday limit spot avail',\n",
              " 'meet reschedul pm let know work',\n",
              " 'happi birthday hope wonder day',\n",
              " 'free entri weekli competit win ipad text win',\n",
              " 'send file discuss',\n",
              " 'hey still meet coffe tomorrow',\n",
              " 'forget submit assign tonight',\n",
              " 'great time concert last night',\n",
              " 'exclus deal buy one get one free hurri',\n",
              " 'hey still meet coffe tomorrow',\n",
              " 'happi birthday hope wonder day',\n",
              " 'congratul free iphon click claim',\n",
              " 'send file discuss',\n",
              " 'send file discuss',\n",
              " 'happi birthday hope wonder day',\n",
              " 'exclus deal buy one get one free hurri',\n",
              " 'check everyth go',\n",
              " 'check everyth go',\n",
              " 'pleas review attach document share feedback',\n",
              " 'congratul free iphon click claim',\n",
              " 'meet reschedul pm let know work',\n",
              " 'forget submit assign tonight',\n",
              " 'late parti stuck traffic',\n",
              " 'late parti stuck traffic',\n",
              " 'lunch amaz today go',\n",
              " 'late parti stuck traffic',\n",
              " 'great time concert last night',\n",
              " 'lunch amaz today go',\n",
              " 'meet reschedul pm let know work',\n",
              " 'check everyth go',\n",
              " 'scam realli big act fast',\n",
              " 'send file discuss',\n",
              " 'late parti stuck traffic',\n",
              " 'hey still meet coffe tomorrow',\n",
              " 'get credit score boost instantli sign',\n",
              " 'late parti stuck traffic',\n",
              " 'pleas review attach document share feedback',\n",
              " 'congratul free iphon click claim',\n",
              " 'scam realli big act fast',\n",
              " 'meet reschedul pm let know work',\n",
              " 'lunch amaz today go',\n",
              " 'hey still meet coffe tomorrow',\n",
              " 'lunch amaz today go',\n",
              " 'account suspend verifi detail immedi',\n",
              " 'lunch amaz today go',\n",
              " 'send file discuss',\n",
              " 'lunch amaz today go',\n",
              " 'hey still meet coffe tomorrow',\n",
              " 'meet reschedul pm let know work',\n",
              " 'check everyth go',\n",
              " 'happi birthday hope wonder day',\n",
              " 'check everyth go',\n",
              " 'happi birthday hope wonder day',\n",
              " 'exclus deal buy one get one free hurri',\n",
              " 'check everyth go',\n",
              " 'urgent lotteri contact us receiv',\n",
              " 'forget submit assign tonight',\n",
              " 'great time concert last night',\n",
              " 'happi birthday hope wonder day',\n",
              " 'forget submit assign tonight',\n",
              " 'great time concert last night',\n",
              " 'send file discuss',\n",
              " 'send file discuss',\n",
              " 'forget submit assign tonight',\n",
              " 'account suspend verifi detail immedi',\n",
              " 'meet reschedul pm let know work',\n",
              " 'late parti stuck traffic',\n",
              " 'lunch amaz today go',\n",
              " 'free entri weekli competit win ipad text win',\n",
              " 'pleas review attach document share feedback',\n",
              " 'late parti stuck traffic',\n",
              " 'congratul free iphon click claim',\n",
              " 'account suspend verifi detail immedi',\n",
              " 'meet reschedul pm let know work',\n",
              " 'happi birthday hope wonder day',\n",
              " 'happi birthday hope wonder day',\n",
              " 'late parti stuck traffic',\n",
              " 'get rich quick earn week home limit time offer',\n",
              " 'forget submit assign tonight',\n",
              " 'lunch amaz today go',\n",
              " 'late parti stuck traffic',\n",
              " 'hey still meet coffe tomorrow',\n",
              " 'happi birthday hope wonder day',\n",
              " 'late parti stuck traffic',\n",
              " 'claim free holiday limit spot avail',\n",
              " 'happi birthday hope wonder day',\n",
              " 'meet reschedul pm let know work',\n",
              " 'send file discuss',\n",
              " 'urgent lotteri contact us receiv',\n",
              " 'get rich quick earn week home limit time offer',\n",
              " 'congratul free iphon click claim',\n",
              " 'great time concert last night',\n",
              " 'send file discuss',\n",
              " 'forget submit assign tonight',\n",
              " 'great time concert last night',\n",
              " 'urgent lotteri contact us receiv',\n",
              " 'scam realli big act fast',\n",
              " 'forget submit assign tonight',\n",
              " 'hey still meet coffe tomorrow',\n",
              " 'send file discuss',\n",
              " 'lunch amaz today go',\n",
              " 'select walmart gift card click',\n",
              " 'happi birthday hope wonder day',\n",
              " 'scam realli big act fast',\n",
              " 'check everyth go',\n",
              " 'send file discuss',\n",
              " 'forget submit assign tonight',\n",
              " 'late parti stuck traffic',\n",
              " 'happi birthday hope wonder day',\n",
              " 'lunch amaz today go',\n",
              " 'forget submit assign tonight',\n",
              " 'late parti stuck traffic',\n",
              " 'great time concert last night',\n",
              " 'forget submit assign tonight',\n",
              " 'free entri weekli competit win ipad text win',\n",
              " 'late parti stuck traffic',\n",
              " 'great time concert last night',\n",
              " 'check everyth go',\n",
              " 'meet reschedul pm let know work',\n",
              " 'great time concert last night',\n",
              " 'happi birthday hope wonder day',\n",
              " 'congratul free iphon click claim',\n",
              " 'great time concert last night',\n",
              " 'late parti stuck traffic',\n",
              " 'great time concert last night',\n",
              " 'scam realli big act fast',\n",
              " 'hey still meet coffe tomorrow',\n",
              " 'lunch amaz today go',\n",
              " 'great time concert last night',\n",
              " 'check everyth go',\n",
              " 'meet reschedul pm let know work',\n",
              " 'happi birthday hope wonder day',\n",
              " 'pleas review attach document share feedback',\n",
              " 'check everyth go',\n",
              " 'meet reschedul pm let know work',\n",
              " 'scam realli big act fast',\n",
              " 'lunch amaz today go',\n",
              " 'late parti stuck traffic',\n",
              " 'select walmart gift card click',\n",
              " 'congratul free iphon click claim',\n",
              " 'lunch amaz today go',\n",
              " 'account suspend verifi detail immedi',\n",
              " 'pleas review attach document share feedback',\n",
              " 'check everyth go',\n",
              " 'lunch amaz today go',\n",
              " 'pleas review attach document share feedback',\n",
              " 'lunch amaz today go',\n",
              " 'send file discuss',\n",
              " 'check everyth go',\n",
              " 'forget submit assign tonight',\n",
              " 'happi birthday hope wonder day',\n",
              " 'meet reschedul pm let know work',\n",
              " 'meet reschedul pm let know work',\n",
              " 'free entri weekli competit win ipad text win',\n",
              " 'late parti stuck traffic']"
            ]
          },
          "metadata": {},
          "execution_count": 10
        }
      ]
    },
    {
      "cell_type": "code",
      "source": [
        "## Create the Bag OF Words model\n",
        "from sklearn.feature_extraction.text import CountVectorizer\n",
        "## for Binary BOW enable binary=True\n",
        "cv = CountVectorizer(max_features=100,binary=True) # binary ====> binary bow"
      ],
      "metadata": {
        "id": "dZAGI2tWlPDy"
      },
      "execution_count": 12,
      "outputs": []
    },
    {
      "cell_type": "code",
      "source": [
        "X = cv.fit_transform(corpus).toarray()"
      ],
      "metadata": {
        "id": "TekA78hu1puA"
      },
      "execution_count": 13,
      "outputs": []
    },
    {
      "cell_type": "code",
      "source": [
        "X"
      ],
      "metadata": {
        "colab": {
          "base_uri": "https://localhost:8080/"
        },
        "id": "qX4GDZDr11MD",
        "outputId": "c9957afa-7aa4-40be-c7f6-09f135f70f8f"
      },
      "execution_count": 14,
      "outputs": [
        {
          "output_type": "execute_result",
          "data": {
            "text/plain": [
              "array([[0, 0, 1, ..., 0, 0, 0],\n",
              "       [0, 0, 0, ..., 0, 0, 0],\n",
              "       [0, 0, 1, ..., 0, 0, 0],\n",
              "       ...,\n",
              "       [0, 0, 0, ..., 0, 0, 1],\n",
              "       [0, 0, 0, ..., 1, 0, 0],\n",
              "       [0, 0, 0, ..., 0, 0, 0]])"
            ]
          },
          "metadata": {},
          "execution_count": 14
        }
      ]
    },
    {
      "cell_type": "code",
      "source": [
        "X.shape"
      ],
      "metadata": {
        "colab": {
          "base_uri": "https://localhost:8080/"
        },
        "id": "UxRSVrsw11nR",
        "outputId": "8bb3514c-5f51-4af6-d51b-c739e84565d6"
      },
      "execution_count": 15,
      "outputs": [
        {
          "output_type": "execute_result",
          "data": {
            "text/plain": [
              "(500, 94)"
            ]
          },
          "metadata": {},
          "execution_count": 15
        }
      ]
    },
    {
      "cell_type": "code",
      "source": [
        "cv = CountVectorizer(max_features=500,binary=False) # binary ====> binary bow"
      ],
      "metadata": {
        "id": "t870pEnv13be"
      },
      "execution_count": 20,
      "outputs": []
    },
    {
      "cell_type": "code",
      "source": [
        "X = cv.fit_transform(corpus).toarray()"
      ],
      "metadata": {
        "id": "VRrTasiF2ATY"
      },
      "execution_count": 21,
      "outputs": []
    },
    {
      "cell_type": "code",
      "source": [
        "X"
      ],
      "metadata": {
        "colab": {
          "base_uri": "https://localhost:8080/"
        },
        "id": "jhqFdTmy2J_K",
        "outputId": "fb9c760e-2e83-4f2d-a720-dca79c076b4e"
      },
      "execution_count": 22,
      "outputs": [
        {
          "output_type": "execute_result",
          "data": {
            "text/plain": [
              "array([[0, 0, 1, ..., 0, 0, 0],\n",
              "       [0, 0, 0, ..., 0, 0, 0],\n",
              "       [0, 0, 1, ..., 0, 0, 0],\n",
              "       ...,\n",
              "       [0, 0, 0, ..., 0, 0, 1],\n",
              "       [0, 0, 0, ..., 2, 0, 0],\n",
              "       [0, 0, 0, ..., 0, 0, 0]])"
            ]
          },
          "metadata": {},
          "execution_count": 22
        }
      ]
    },
    {
      "cell_type": "code",
      "source": [
        "X.shape"
      ],
      "metadata": {
        "colab": {
          "base_uri": "https://localhost:8080/"
        },
        "id": "6fxJ0uJq2KnX",
        "outputId": "34a5ed7c-a5d6-43b2-98af-a4a5051ce325"
      },
      "execution_count": 23,
      "outputs": [
        {
          "output_type": "execute_result",
          "data": {
            "text/plain": [
              "(500, 94)"
            ]
          },
          "metadata": {},
          "execution_count": 23
        }
      ]
    },
    {
      "cell_type": "code",
      "source": [
        "import numpy as np\n",
        "np.set_printoptions(edgeitems=30, linewidth=100000,\n",
        "    formatter=dict(float=lambda x: \"%.3g\" % x))\n",
        "X"
      ],
      "metadata": {
        "colab": {
          "base_uri": "https://localhost:8080/"
        },
        "id": "vi4lsEfT2Pue",
        "outputId": "2105919c-40fa-429c-ded1-645cc6e7829e"
      },
      "execution_count": 24,
      "outputs": [
        {
          "output_type": "execute_result",
          "data": {
            "text/plain": [
              "array([[0, 0, 1, 0, 0, 0, 0, 0, 0, 0, 0, 0, 0, 0, 0, 0, 0, 0, 0, 0, 0, 0, 0, 0, 0, 0, 0, 0, 0, 0, ..., 0, 0, 0, 0, 0, 0, 0, 0, 0, 0, 0, 0, 0, 0, 0, 0, 0, 1, 0, 0, 0, 0, 0, 0, 0, 0, 0, 0, 0, 0],\n",
              "       [0, 0, 0, 0, 1, 0, 0, 0, 0, 0, 0, 0, 0, 0, 0, 0, 0, 0, 0, 0, 0, 0, 0, 0, 1, 0, 0, 0, 0, 0, ..., 0, 0, 1, 0, 0, 0, 0, 0, 1, 0, 0, 0, 0, 0, 0, 0, 0, 0, 0, 0, 0, 0, 0, 0, 0, 0, 0, 0, 0, 0],\n",
              "       [0, 0, 1, 0, 0, 0, 0, 0, 0, 0, 0, 0, 0, 0, 0, 0, 0, 0, 0, 0, 0, 0, 0, 0, 0, 0, 0, 0, 0, 0, ..., 0, 0, 0, 0, 0, 0, 0, 0, 0, 0, 0, 0, 0, 0, 0, 0, 0, 1, 0, 0, 0, 0, 0, 0, 0, 0, 0, 0, 0, 0],\n",
              "       [0, 0, 0, 0, 0, 0, 0, 0, 0, 0, 0, 1, 0, 0, 0, 0, 0, 0, 0, 0, 0, 0, 0, 0, 0, 0, 0, 1, 0, 0, ..., 0, 0, 0, 0, 0, 0, 0, 0, 0, 0, 0, 0, 0, 0, 0, 0, 0, 0, 0, 0, 0, 0, 0, 0, 0, 0, 0, 0, 0, 0],\n",
              "       [0, 0, 0, 0, 1, 0, 0, 0, 0, 0, 0, 0, 0, 0, 0, 0, 0, 0, 0, 0, 0, 0, 0, 0, 1, 0, 0, 0, 0, 0, ..., 0, 0, 1, 0, 0, 0, 0, 0, 1, 0, 0, 0, 0, 0, 0, 0, 0, 0, 0, 0, 0, 0, 0, 0, 0, 0, 0, 0, 0, 0],\n",
              "       [0, 0, 0, 0, 0, 0, 0, 0, 0, 0, 0, 0, 0, 0, 1, 0, 0, 0, 0, 0, 0, 0, 0, 0, 0, 0, 0, 0, 0, 0, ..., 0, 0, 0, 0, 0, 0, 0, 0, 0, 0, 0, 1, 0, 0, 0, 0, 0, 0, 1, 0, 0, 0, 0, 0, 0, 0, 0, 0, 0, 0],\n",
              "       [0, 0, 0, 0, 0, 0, 0, 0, 0, 0, 0, 0, 0, 0, 1, 0, 0, 0, 0, 0, 0, 0, 0, 0, 0, 0, 0, 0, 0, 0, ..., 0, 0, 0, 0, 0, 0, 0, 0, 0, 0, 0, 1, 0, 0, 0, 0, 0, 0, 1, 0, 0, 0, 0, 0, 0, 0, 0, 0, 0, 0],\n",
              "       [0, 0, 0, 0, 0, 0, 0, 0, 0, 0, 0, 0, 0, 0, 0, 0, 0, 0, 0, 0, 0, 0, 0, 0, 0, 1, 0, 0, 0, 0, ..., 0, 0, 0, 1, 0, 0, 0, 0, 0, 0, 0, 0, 0, 0, 0, 0, 1, 0, 0, 0, 0, 0, 0, 0, 0, 1, 0, 0, 0, 0],\n",
              "       [0, 0, 0, 0, 0, 0, 0, 0, 0, 0, 0, 1, 0, 0, 0, 0, 0, 0, 0, 0, 0, 0, 0, 0, 0, 0, 0, 1, 0, 0, ..., 0, 0, 0, 0, 0, 0, 0, 0, 0, 0, 0, 0, 0, 0, 0, 0, 0, 0, 0, 0, 0, 0, 0, 0, 0, 0, 0, 0, 0, 0],\n",
              "       [0, 0, 0, 0, 0, 0, 0, 1, 0, 0, 0, 0, 0, 0, 0, 0, 0, 0, 0, 0, 1, 0, 0, 0, 0, 0, 0, 0, 0, 0, ..., 0, 0, 0, 0, 0, 0, 0, 0, 0, 0, 0, 0, 0, 0, 0, 0, 0, 0, 0, 0, 0, 0, 0, 0, 0, 0, 0, 0, 1, 0],\n",
              "       [0, 0, 0, 0, 0, 0, 0, 1, 0, 0, 0, 0, 0, 0, 0, 0, 0, 0, 0, 0, 1, 0, 0, 0, 0, 0, 0, 0, 0, 0, ..., 0, 0, 0, 0, 0, 0, 0, 0, 0, 0, 0, 0, 0, 0, 0, 0, 0, 0, 0, 0, 0, 0, 0, 0, 0, 0, 0, 0, 1, 0],\n",
              "       [0, 0, 0, 0, 1, 0, 0, 0, 0, 0, 0, 0, 0, 0, 0, 0, 0, 0, 0, 0, 0, 0, 0, 0, 1, 0, 0, 0, 0, 0, ..., 0, 0, 1, 0, 0, 0, 0, 0, 1, 0, 0, 0, 0, 0, 0, 0, 0, 0, 0, 0, 0, 0, 0, 0, 0, 0, 0, 0, 0, 0],\n",
              "       [0, 0, 0, 0, 0, 0, 0, 0, 0, 0, 0, 0, 0, 0, 0, 0, 0, 0, 0, 0, 0, 0, 0, 0, 0, 1, 0, 0, 0, 0, ..., 0, 0, 0, 1, 0, 0, 0, 0, 0, 0, 0, 0, 0, 0, 0, 0, 1, 0, 0, 0, 0, 0, 0, 0, 0, 1, 0, 0, 0, 0],\n",
              "       [0, 0, 1, 0, 0, 0, 0, 0, 0, 0, 0, 0, 0, 0, 0, 0, 0, 0, 0, 0, 0, 0, 0, 0, 0, 0, 0, 0, 0, 0, ..., 0, 0, 0, 0, 0, 0, 0, 0, 0, 0, 0, 0, 0, 0, 0, 0, 0, 1, 0, 0, 0, 0, 0, 0, 0, 0, 0, 0, 0, 0],\n",
              "       [0, 0, 1, 0, 0, 0, 0, 0, 0, 0, 0, 0, 0, 0, 0, 0, 0, 0, 0, 0, 0, 0, 0, 0, 0, 0, 0, 0, 0, 0, ..., 0, 0, 0, 0, 0, 0, 0, 0, 0, 0, 0, 0, 0, 0, 0, 0, 0, 1, 0, 0, 0, 0, 0, 0, 0, 0, 0, 0, 0, 0],\n",
              "       [0, 0, 0, 0, 0, 0, 0, 0, 1, 0, 0, 0, 0, 0, 0, 0, 0, 0, 0, 1, 0, 0, 0, 0, 0, 0, 0, 0, 0, 0, ..., 0, 0, 0, 0, 0, 1, 0, 0, 0, 1, 0, 0, 0, 0, 0, 0, 0, 0, 0, 0, 0, 0, 0, 0, 0, 0, 0, 0, 0, 0],\n",
              "       [0, 0, 0, 0, 0, 0, 0, 0, 0, 0, 0, 0, 0, 0, 0, 1, 0, 0, 0, 0, 0, 0, 0, 0, 0, 0, 1, 0, 0, 0, ..., 0, 0, 0, 0, 0, 0, 0, 0, 0, 0, 0, 0, 0, 0, 0, 1, 0, 0, 0, 0, 0, 0, 0, 0, 0, 0, 1, 2, 0, 0],\n",
              "       [0, 0, 0, 0, 0, 0, 0, 1, 0, 0, 0, 0, 0, 0, 0, 0, 0, 0, 0, 0, 1, 0, 0, 0, 0, 0, 0, 0, 0, 0, ..., 0, 0, 0, 0, 0, 0, 0, 0, 0, 0, 0, 0, 0, 0, 0, 0, 0, 0, 0, 0, 0, 0, 0, 0, 0, 0, 0, 0, 1, 0],\n",
              "       [0, 0, 0, 0, 0, 0, 0, 0, 0, 0, 0, 1, 0, 0, 0, 0, 0, 0, 0, 0, 0, 0, 0, 0, 0, 0, 0, 1, 0, 0, ..., 0, 0, 0, 0, 0, 0, 0, 0, 0, 0, 0, 0, 0, 0, 0, 0, 0, 0, 0, 0, 0, 0, 0, 0, 0, 0, 0, 0, 0, 0],\n",
              "       [0, 0, 0, 0, 0, 0, 0, 0, 0, 0, 0, 0, 0, 0, 0, 0, 0, 0, 0, 0, 0, 0, 0, 0, 0, 0, 0, 0, 0, 0, ..., 0, 0, 0, 0, 0, 0, 0, 0, 0, 0, 0, 0, 1, 0, 0, 0, 0, 0, 0, 0, 1, 0, 0, 0, 0, 0, 0, 0, 0, 0],\n",
              "       [0, 0, 0, 0, 0, 0, 0, 0, 1, 0, 0, 0, 0, 0, 0, 0, 0, 0, 0, 1, 0, 0, 0, 0, 0, 0, 0, 0, 0, 0, ..., 0, 0, 0, 0, 0, 1, 0, 0, 0, 1, 0, 0, 0, 0, 0, 0, 0, 0, 0, 0, 0, 0, 0, 0, 0, 0, 0, 0, 0, 0],\n",
              "       [0, 0, 0, 0, 0, 0, 0, 0, 0, 0, 0, 0, 0, 0, 0, 0, 1, 0, 0, 0, 0, 0, 0, 0, 0, 0, 0, 0, 0, 0, ..., 0, 0, 0, 0, 0, 0, 0, 0, 0, 0, 0, 0, 0, 0, 0, 0, 1, 0, 0, 0, 0, 0, 0, 0, 0, 0, 0, 0, 0, 0],\n",
              "       [0, 0, 0, 0, 0, 0, 0, 0, 0, 0, 0, 0, 0, 0, 0, 0, 1, 0, 0, 0, 0, 0, 0, 0, 0, 0, 0, 0, 0, 0, ..., 0, 0, 0, 0, 0, 0, 0, 0, 0, 0, 0, 0, 0, 0, 0, 0, 1, 0, 0, 0, 0, 0, 0, 0, 0, 0, 0, 0, 0, 0],\n",
              "       [0, 0, 0, 0, 0, 0, 0, 0, 0, 0, 0, 0, 0, 0, 1, 0, 0, 0, 0, 0, 0, 0, 0, 0, 0, 0, 0, 0, 0, 0, ..., 0, 0, 0, 0, 0, 0, 0, 0, 0, 0, 0, 1, 0, 0, 0, 0, 0, 0, 1, 0, 0, 0, 0, 0, 0, 0, 0, 0, 0, 0],\n",
              "       [0, 0, 0, 0, 0, 0, 0, 0, 1, 0, 0, 0, 0, 0, 0, 0, 0, 0, 0, 1, 0, 0, 0, 0, 0, 0, 0, 0, 0, 0, ..., 0, 0, 0, 0, 0, 1, 0, 0, 0, 1, 0, 0, 0, 0, 0, 0, 0, 0, 0, 0, 0, 0, 0, 0, 0, 0, 0, 0, 0, 0],\n",
              "       [0, 0, 1, 0, 0, 0, 0, 0, 0, 0, 0, 0, 0, 0, 0, 0, 0, 0, 0, 0, 0, 0, 0, 0, 0, 0, 0, 0, 0, 0, ..., 0, 0, 0, 0, 0, 0, 0, 0, 0, 0, 0, 0, 0, 0, 0, 0, 0, 1, 0, 0, 0, 0, 0, 0, 0, 0, 0, 0, 0, 0],\n",
              "       [0, 0, 0, 0, 0, 0, 0, 0, 0, 0, 0, 0, 0, 0, 0, 0, 0, 0, 0, 0, 0, 0, 0, 0, 0, 0, 0, 0, 0, 0, ..., 0, 0, 0, 0, 0, 0, 0, 0, 0, 0, 0, 0, 1, 0, 0, 0, 0, 0, 0, 0, 1, 0, 0, 0, 0, 0, 0, 0, 0, 0],\n",
              "       [0, 0, 1, 0, 0, 0, 0, 0, 0, 0, 0, 0, 0, 0, 0, 0, 0, 0, 0, 0, 0, 0, 0, 0, 0, 0, 0, 0, 0, 0, ..., 0, 0, 0, 0, 0, 0, 0, 0, 0, 0, 0, 0, 0, 0, 0, 0, 0, 1, 0, 0, 0, 0, 0, 0, 0, 0, 0, 0, 0, 0],\n",
              "       [0, 0, 0, 0, 0, 0, 0, 0, 0, 0, 0, 0, 0, 0, 0, 0, 0, 0, 1, 0, 0, 0, 0, 0, 0, 0, 0, 0, 0, 0, ..., 1, 0, 0, 0, 0, 0, 0, 0, 0, 0, 0, 0, 0, 0, 0, 0, 0, 0, 0, 0, 0, 1, 1, 0, 0, 0, 0, 0, 0, 0],\n",
              "       [0, 0, 0, 0, 1, 0, 0, 0, 0, 0, 0, 0, 0, 0, 0, 0, 0, 0, 0, 0, 0, 0, 0, 0, 1, 0, 0, 0, 0, 0, ..., 0, 0, 1, 0, 0, 0, 0, 0, 1, 0, 0, 0, 0, 0, 0, 0, 0, 0, 0, 0, 0, 0, 0, 0, 0, 0, 0, 0, 0, 0],\n",
              "       ...,\n",
              "       [0, 1, 0, 0, 0, 0, 1, 0, 0, 0, 0, 0, 0, 0, 0, 0, 0, 0, 0, 0, 0, 0, 0, 0, 0, 0, 0, 0, 0, 1, ..., 0, 0, 0, 0, 1, 0, 0, 0, 0, 0, 0, 0, 0, 0, 0, 0, 0, 0, 0, 0, 0, 0, 0, 0, 0, 0, 0, 0, 0, 0],\n",
              "       [0, 0, 0, 0, 0, 0, 0, 0, 0, 0, 0, 0, 0, 0, 1, 0, 0, 0, 0, 0, 0, 0, 0, 0, 0, 0, 0, 0, 0, 0, ..., 0, 0, 0, 0, 0, 0, 0, 0, 0, 0, 0, 1, 0, 0, 0, 0, 0, 0, 1, 0, 0, 0, 0, 0, 0, 0, 0, 0, 0, 0],\n",
              "       [0, 0, 1, 0, 0, 0, 0, 0, 0, 0, 0, 0, 0, 0, 0, 0, 0, 0, 0, 0, 0, 0, 0, 0, 0, 0, 0, 0, 0, 0, ..., 0, 0, 0, 0, 0, 0, 0, 0, 0, 0, 0, 0, 0, 0, 0, 0, 0, 1, 0, 0, 0, 0, 0, 0, 0, 0, 0, 0, 0, 0],\n",
              "       [0, 0, 0, 0, 0, 0, 0, 0, 0, 0, 0, 0, 0, 0, 0, 0, 1, 0, 0, 0, 0, 0, 0, 0, 0, 0, 0, 0, 0, 0, ..., 0, 0, 0, 0, 0, 0, 0, 0, 0, 0, 0, 0, 0, 0, 0, 0, 1, 0, 0, 0, 0, 0, 0, 0, 0, 0, 0, 0, 0, 0],\n",
              "       [0, 0, 0, 0, 0, 0, 0, 0, 0, 0, 0, 1, 0, 0, 0, 0, 0, 0, 0, 0, 0, 0, 0, 0, 0, 0, 0, 1, 0, 0, ..., 0, 0, 0, 0, 0, 0, 0, 0, 0, 0, 0, 0, 0, 0, 0, 0, 0, 0, 0, 0, 0, 0, 0, 0, 0, 0, 0, 0, 0, 0],\n",
              "       [0, 0, 0, 0, 0, 0, 0, 0, 0, 0, 0, 0, 0, 0, 0, 0, 0, 0, 0, 0, 0, 0, 0, 0, 0, 0, 0, 0, 0, 0, ..., 0, 1, 0, 0, 0, 0, 0, 0, 0, 0, 0, 0, 0, 0, 0, 0, 0, 0, 0, 0, 0, 0, 0, 0, 0, 0, 0, 0, 0, 1],\n",
              "       [0, 0, 0, 0, 0, 0, 0, 1, 0, 0, 0, 0, 0, 0, 0, 0, 0, 0, 0, 0, 1, 0, 0, 0, 0, 0, 0, 0, 0, 0, ..., 0, 0, 0, 0, 0, 0, 0, 0, 0, 0, 0, 0, 0, 0, 0, 0, 0, 0, 0, 0, 0, 0, 0, 0, 0, 0, 0, 0, 1, 0],\n",
              "       [0, 0, 0, 0, 1, 0, 0, 0, 0, 0, 0, 0, 0, 0, 0, 0, 0, 0, 0, 0, 0, 0, 0, 0, 1, 0, 0, 0, 0, 0, ..., 0, 0, 1, 0, 0, 0, 0, 0, 1, 0, 0, 0, 0, 0, 0, 0, 0, 0, 0, 0, 0, 0, 0, 0, 0, 0, 0, 0, 0, 0],\n",
              "       [0, 0, 0, 0, 0, 0, 0, 0, 0, 0, 0, 1, 0, 0, 0, 0, 0, 0, 0, 0, 0, 0, 0, 0, 0, 0, 0, 1, 0, 0, ..., 0, 0, 0, 0, 0, 0, 0, 0, 0, 0, 0, 0, 0, 0, 0, 0, 0, 0, 0, 0, 0, 0, 0, 0, 0, 0, 0, 0, 0, 0],\n",
              "       [0, 0, 0, 0, 0, 0, 0, 0, 0, 0, 0, 0, 0, 0, 0, 0, 0, 0, 0, 0, 0, 0, 0, 0, 0, 0, 0, 0, 0, 0, ..., 0, 1, 0, 0, 0, 0, 0, 0, 0, 0, 0, 0, 0, 0, 0, 0, 0, 0, 0, 0, 0, 0, 0, 0, 0, 0, 0, 0, 0, 1],\n",
              "       [0, 1, 0, 0, 0, 0, 1, 0, 0, 0, 0, 0, 0, 0, 0, 0, 0, 0, 0, 0, 0, 0, 0, 0, 0, 0, 0, 0, 0, 1, ..., 0, 0, 0, 0, 1, 0, 0, 0, 0, 0, 0, 0, 0, 0, 0, 0, 0, 0, 0, 0, 0, 0, 0, 0, 0, 0, 0, 0, 0, 0],\n",
              "       [0, 0, 1, 0, 0, 0, 0, 0, 0, 0, 0, 0, 0, 0, 0, 0, 0, 0, 0, 0, 0, 0, 0, 0, 0, 0, 0, 0, 0, 0, ..., 0, 0, 0, 0, 0, 0, 0, 0, 0, 0, 0, 0, 0, 0, 0, 0, 0, 1, 0, 0, 0, 0, 0, 0, 0, 0, 0, 0, 0, 0],\n",
              "       [0, 0, 0, 0, 0, 0, 0, 0, 0, 0, 0, 0, 0, 0, 0, 0, 0, 0, 0, 0, 0, 0, 0, 0, 0, 0, 0, 0, 0, 0, ..., 0, 0, 0, 0, 0, 0, 0, 0, 0, 0, 0, 0, 1, 0, 0, 0, 0, 0, 0, 0, 1, 0, 0, 0, 0, 0, 0, 0, 0, 0],\n",
              "       [0, 0, 0, 0, 0, 0, 0, 0, 0, 0, 1, 0, 0, 1, 0, 0, 0, 0, 0, 0, 0, 0, 0, 0, 0, 0, 0, 0, 0, 0, ..., 0, 0, 0, 0, 0, 0, 1, 0, 0, 0, 0, 0, 0, 0, 0, 0, 0, 0, 0, 0, 0, 0, 0, 0, 1, 0, 0, 0, 0, 0],\n",
              "       [0, 0, 0, 0, 0, 0, 0, 0, 0, 0, 0, 0, 1, 1, 0, 0, 0, 1, 0, 0, 0, 0, 0, 0, 0, 0, 0, 0, 0, 0, ..., 0, 0, 0, 0, 0, 0, 0, 0, 0, 0, 0, 0, 0, 0, 0, 0, 0, 0, 0, 0, 0, 0, 0, 0, 0, 0, 0, 0, 0, 0],\n",
              "       [0, 0, 1, 0, 0, 0, 0, 0, 0, 0, 0, 0, 0, 0, 0, 0, 0, 0, 0, 0, 0, 0, 0, 0, 0, 0, 0, 0, 0, 0, ..., 0, 0, 0, 0, 0, 0, 0, 0, 0, 0, 0, 0, 0, 0, 0, 0, 0, 1, 0, 0, 0, 0, 0, 0, 0, 0, 0, 0, 0, 0],\n",
              "       [1, 0, 0, 0, 0, 0, 0, 0, 0, 0, 0, 0, 0, 0, 0, 0, 0, 0, 0, 0, 0, 0, 1, 0, 0, 0, 0, 0, 0, 0, ..., 0, 0, 0, 0, 0, 0, 0, 0, 0, 0, 0, 0, 0, 0, 1, 0, 0, 0, 0, 0, 0, 0, 0, 1, 0, 0, 0, 0, 0, 0],\n",
              "       [0, 0, 0, 0, 1, 0, 0, 0, 0, 0, 0, 0, 0, 0, 0, 0, 0, 0, 0, 0, 0, 0, 0, 0, 1, 0, 0, 0, 0, 0, ..., 0, 0, 1, 0, 0, 0, 0, 0, 1, 0, 0, 0, 0, 0, 0, 0, 0, 0, 0, 0, 0, 0, 0, 0, 0, 0, 0, 0, 0, 0],\n",
              "       [0, 0, 0, 0, 0, 0, 0, 0, 0, 0, 0, 1, 0, 0, 0, 0, 0, 0, 0, 0, 0, 0, 0, 0, 0, 0, 0, 1, 0, 0, ..., 0, 0, 0, 0, 0, 0, 0, 0, 0, 0, 0, 0, 0, 0, 0, 0, 0, 0, 0, 0, 0, 0, 0, 0, 0, 0, 0, 0, 0, 0],\n",
              "       [0, 0, 1, 0, 0, 0, 0, 0, 0, 0, 0, 0, 0, 0, 0, 0, 0, 0, 0, 0, 0, 0, 0, 0, 0, 0, 0, 0, 0, 0, ..., 0, 0, 0, 0, 0, 0, 0, 0, 0, 0, 0, 0, 0, 0, 0, 0, 0, 1, 0, 0, 0, 0, 0, 0, 0, 0, 0, 0, 0, 0],\n",
              "       [0, 0, 0, 0, 1, 0, 0, 0, 0, 0, 0, 0, 0, 0, 0, 0, 0, 0, 0, 0, 0, 0, 0, 0, 1, 0, 0, 0, 0, 0, ..., 0, 0, 1, 0, 0, 0, 0, 0, 1, 0, 0, 0, 0, 0, 0, 0, 0, 0, 0, 0, 0, 0, 0, 0, 0, 0, 0, 0, 0, 0],\n",
              "       [0, 0, 1, 0, 0, 0, 0, 0, 0, 0, 0, 0, 0, 0, 0, 0, 0, 0, 0, 0, 0, 0, 0, 0, 0, 0, 0, 0, 0, 0, ..., 0, 0, 0, 0, 0, 0, 0, 0, 0, 0, 0, 0, 0, 0, 0, 0, 0, 1, 0, 0, 0, 0, 0, 0, 0, 0, 0, 0, 0, 0],\n",
              "       [0, 0, 0, 0, 0, 0, 0, 0, 0, 0, 0, 0, 0, 0, 0, 0, 0, 0, 0, 0, 0, 0, 0, 1, 0, 0, 0, 0, 0, 0, ..., 0, 0, 0, 0, 0, 0, 0, 1, 0, 0, 0, 0, 0, 0, 0, 0, 0, 0, 0, 0, 0, 0, 0, 0, 0, 0, 0, 0, 0, 0],\n",
              "       [0, 0, 0, 0, 0, 0, 0, 0, 0, 0, 0, 1, 0, 0, 0, 0, 0, 0, 0, 0, 0, 0, 0, 0, 0, 0, 0, 1, 0, 0, ..., 0, 0, 0, 0, 0, 0, 0, 0, 0, 0, 0, 0, 0, 0, 0, 0, 0, 0, 0, 0, 0, 0, 0, 0, 0, 0, 0, 0, 0, 0],\n",
              "       [0, 0, 0, 1, 0, 0, 0, 0, 0, 0, 0, 0, 0, 0, 0, 0, 0, 0, 0, 0, 0, 0, 0, 0, 0, 0, 0, 0, 0, 0, ..., 0, 0, 0, 0, 0, 0, 0, 0, 0, 0, 0, 0, 0, 1, 0, 0, 0, 0, 0, 1, 0, 0, 0, 0, 0, 0, 0, 0, 0, 0],\n",
              "       [0, 0, 0, 0, 0, 0, 0, 1, 0, 0, 0, 0, 0, 0, 0, 0, 0, 0, 0, 0, 1, 0, 0, 0, 0, 0, 0, 0, 0, 0, ..., 0, 0, 0, 0, 0, 0, 0, 0, 0, 0, 0, 0, 0, 0, 0, 0, 0, 0, 0, 0, 0, 0, 0, 0, 0, 0, 0, 0, 1, 0],\n",
              "       [0, 0, 0, 0, 0, 0, 0, 0, 0, 0, 0, 0, 0, 0, 0, 0, 0, 0, 0, 0, 0, 0, 0, 0, 0, 0, 0, 0, 0, 0, ..., 0, 1, 0, 0, 0, 0, 0, 0, 0, 0, 0, 0, 0, 0, 0, 0, 0, 0, 0, 0, 0, 0, 0, 0, 0, 0, 0, 0, 0, 1],\n",
              "       [0, 0, 0, 0, 0, 0, 0, 0, 0, 0, 0, 0, 0, 0, 0, 0, 0, 0, 0, 0, 0, 0, 0, 0, 0, 0, 0, 0, 0, 0, ..., 0, 1, 0, 0, 0, 0, 0, 0, 0, 0, 0, 0, 0, 0, 0, 0, 0, 0, 0, 0, 0, 0, 0, 0, 0, 0, 0, 0, 0, 1],\n",
              "       [0, 0, 0, 0, 0, 0, 0, 0, 0, 0, 0, 0, 0, 0, 0, 1, 0, 0, 0, 0, 0, 0, 0, 0, 0, 0, 1, 0, 0, 0, ..., 0, 0, 0, 0, 0, 0, 0, 0, 0, 0, 0, 0, 0, 0, 0, 1, 0, 0, 0, 0, 0, 0, 0, 0, 0, 0, 1, 2, 0, 0],\n",
              "       [0, 0, 0, 0, 0, 0, 0, 0, 0, 0, 0, 0, 0, 0, 0, 0, 0, 0, 0, 0, 0, 0, 0, 0, 0, 0, 0, 0, 0, 0, ..., 0, 0, 0, 0, 0, 0, 0, 0, 0, 0, 0, 0, 1, 0, 0, 0, 0, 0, 0, 0, 1, 0, 0, 0, 0, 0, 0, 0, 0, 0]])"
            ]
          },
          "metadata": {},
          "execution_count": 24
        }
      ]
    },
    {
      "cell_type": "code",
      "source": [
        "cv.vocabulary_"
      ],
      "metadata": {
        "colab": {
          "base_uri": "https://localhost:8080/"
        },
        "id": "dBMGMRPP2ajn",
        "outputId": "aa3fe283-f23b-4591-d9d9-a14524e4be8b"
      },
      "execution_count": 25,
      "outputs": [
        {
          "output_type": "execute_result",
          "data": {
            "text/plain": [
              "{'lunch': np.int64(54),\n",
              " 'amaz': np.int64(2),\n",
              " 'today': np.int64(81),\n",
              " 'go': np.int64(36),\n",
              " 'pleas': np.int64(60),\n",
              " 'review': np.int64(66),\n",
              " 'attach': np.int64(4),\n",
              " 'document': np.int64(24),\n",
              " 'share': np.int64(72),\n",
              " 'feedback': np.int64(30),\n",
              " 'check': np.int64(11),\n",
              " 'everyth': np.int64(27),\n",
              " 'hey': np.int64(39),\n",
              " 'still': np.int64(75),\n",
              " 'meet': np.int64(55),\n",
              " 'coffe': np.int64(14),\n",
              " 'tomorrow': np.int64(82),\n",
              " 'get': np.int64(34),\n",
              " 'rich': np.int64(67),\n",
              " 'quick': np.int64(62),\n",
              " 'earn': np.int64(25),\n",
              " 'week': np.int64(89),\n",
              " 'home': np.int64(41),\n",
              " 'limit': np.int64(52),\n",
              " 'time': np.int64(80),\n",
              " 'offer': np.int64(57),\n",
              " 'happi': np.int64(38),\n",
              " 'birthday': np.int64(7),\n",
              " 'hope': np.int64(42),\n",
              " 'wonder': np.int64(92),\n",
              " 'day': np.int64(20),\n",
              " 'credit': np.int64(19),\n",
              " 'score': np.int64(69),\n",
              " 'boost': np.int64(8),\n",
              " 'instantli': np.int64(45),\n",
              " 'sign': np.int64(73),\n",
              " 'free': np.int64(33),\n",
              " 'entri': np.int64(26),\n",
              " 'weekli': np.int64(90),\n",
              " 'competit': np.int64(15),\n",
              " 'win': np.int64(91),\n",
              " 'ipad': np.int64(46),\n",
              " 'text': np.int64(79),\n",
              " 'late': np.int64(50),\n",
              " 'parti': np.int64(59),\n",
              " 'stuck': np.int64(76),\n",
              " 'traffic': np.int64(84),\n",
              " 'great': np.int64(37),\n",
              " 'concert': np.int64(16),\n",
              " 'last': np.int64(49),\n",
              " 'night': np.int64(56),\n",
              " 'urgent': np.int64(85),\n",
              " 'lotteri': np.int64(53),\n",
              " 'contact': np.int64(18),\n",
              " 'us': np.int64(86),\n",
              " 'receiv': np.int64(64),\n",
              " 'reschedul': np.int64(65),\n",
              " 'pm': np.int64(61),\n",
              " 'let': np.int64(51),\n",
              " 'know': np.int64(48),\n",
              " 'work': np.int64(93),\n",
              " 'forget': np.int64(32),\n",
              " 'submit': np.int64(77),\n",
              " 'assign': np.int64(3),\n",
              " 'tonight': np.int64(83),\n",
              " 'send': np.int64(71),\n",
              " 'file': np.int64(31),\n",
              " 'discuss': np.int64(23),\n",
              " 'exclus': np.int64(28),\n",
              " 'deal': np.int64(21),\n",
              " 'buy': np.int64(9),\n",
              " 'one': np.int64(58),\n",
              " 'hurri': np.int64(43),\n",
              " 'claim': np.int64(12),\n",
              " 'holiday': np.int64(40),\n",
              " 'spot': np.int64(74),\n",
              " 'avail': np.int64(5),\n",
              " 'scam': np.int64(68),\n",
              " 'realli': np.int64(63),\n",
              " 'big': np.int64(6),\n",
              " 'act': np.int64(1),\n",
              " 'fast': np.int64(29),\n",
              " 'congratul': np.int64(17),\n",
              " 'iphon': np.int64(47),\n",
              " 'click': np.int64(13),\n",
              " 'select': np.int64(70),\n",
              " 'walmart': np.int64(88),\n",
              " 'gift': np.int64(35),\n",
              " 'card': np.int64(10),\n",
              " 'account': np.int64(0),\n",
              " 'suspend': np.int64(78),\n",
              " 'verifi': np.int64(87),\n",
              " 'detail': np.int64(22),\n",
              " 'immedi': np.int64(44)}"
            ]
          },
          "metadata": {},
          "execution_count": 25
        }
      ]
    },
    {
      "cell_type": "code",
      "source": [
        "## Create the Bag OF Words model with ngram\n",
        "\n",
        "from sklearn.feature_extraction.text import CountVectorizer\n",
        "\n",
        "## for Binary BOW enable binary=True\n",
        "cv=CountVectorizer(max_features=100,binary=True,ngram_range=(2,3)) # ngram_range =(2,3) ---> means bigrams and trigrams\n",
        "X=cv.fit_transform(corpus).toarray()"
      ],
      "metadata": {
        "id": "minAONQc2fxb"
      },
      "execution_count": 28,
      "outputs": []
    },
    {
      "cell_type": "code",
      "source": [
        "cv.vocabulary_"
      ],
      "metadata": {
        "colab": {
          "base_uri": "https://localhost:8080/"
        },
        "id": "UTSpvi4e23CK",
        "outputId": "3bee75e9-d966-42b4-ce01-a6d2372d67ca"
      },
      "execution_count": 29,
      "outputs": [
        {
          "output_type": "execute_result",
          "data": {
            "text/plain": [
              "{'lunch amaz': np.int64(59),\n",
              " 'amaz today': np.int64(1),\n",
              " 'today go': np.int64(94),\n",
              " 'lunch amaz today': np.int64(60),\n",
              " 'amaz today go': np.int64(2),\n",
              " 'pleas review': np.int64(71),\n",
              " 'review attach': np.int64(79),\n",
              " 'attach document': np.int64(4),\n",
              " 'document share': np.int64(24),\n",
              " 'share feedback': np.int64(85),\n",
              " 'pleas review attach': np.int64(72),\n",
              " 'review attach document': np.int64(80),\n",
              " 'attach document share': np.int64(5),\n",
              " 'document share feedback': np.int64(25),\n",
              " 'check everyth': np.int64(12),\n",
              " 'everyth go': np.int64(28),\n",
              " 'check everyth go': np.int64(13),\n",
              " 'hey still': np.int64(45),\n",
              " 'still meet': np.int64(86),\n",
              " 'meet coffe': np.int64(61),\n",
              " 'coffe tomorrow': np.int64(15),\n",
              " 'hey still meet': np.int64(46),\n",
              " 'still meet coffe': np.int64(87),\n",
              " 'meet coffe tomorrow': np.int64(62),\n",
              " 'happi birthday': np.int64(43),\n",
              " 'birthday hope': np.int64(8),\n",
              " 'hope wonder': np.int64(47),\n",
              " 'wonder day': np.int64(99),\n",
              " 'happi birthday hope': np.int64(44),\n",
              " 'birthday hope wonder': np.int64(9),\n",
              " 'hope wonder day': np.int64(48),\n",
              " 'free entri': np.int64(34),\n",
              " 'entri weekli': np.int64(26),\n",
              " 'weekli competit': np.int64(95),\n",
              " 'competit win': np.int64(16),\n",
              " 'win ipad': np.int64(97),\n",
              " 'ipad text': np.int64(49),\n",
              " 'text win': np.int64(91),\n",
              " 'free entri weekli': np.int64(35),\n",
              " 'entri weekli competit': np.int64(27),\n",
              " 'weekli competit win': np.int64(96),\n",
              " 'competit win ipad': np.int64(17),\n",
              " 'win ipad text': np.int64(98),\n",
              " 'ipad text win': np.int64(50),\n",
              " 'late parti': np.int64(55),\n",
              " 'parti stuck': np.int64(69),\n",
              " 'stuck traffic': np.int64(88),\n",
              " 'late parti stuck': np.int64(56),\n",
              " 'parti stuck traffic': np.int64(70),\n",
              " 'great time': np.int64(41),\n",
              " 'time concert': np.int64(92),\n",
              " 'concert last': np.int64(18),\n",
              " 'last night': np.int64(54),\n",
              " 'great time concert': np.int64(42),\n",
              " 'time concert last': np.int64(93),\n",
              " 'concert last night': np.int64(19),\n",
              " 'meet reschedul': np.int64(63),\n",
              " 'reschedul pm': np.int64(77),\n",
              " 'pm let': np.int64(73),\n",
              " 'let know': np.int64(57),\n",
              " 'know work': np.int64(53),\n",
              " 'meet reschedul pm': np.int64(64),\n",
              " 'reschedul pm let': np.int64(78),\n",
              " 'pm let know': np.int64(74),\n",
              " 'let know work': np.int64(58),\n",
              " 'forget submit': np.int64(32),\n",
              " 'submit assign': np.int64(89),\n",
              " 'assign tonight': np.int64(3),\n",
              " 'forget submit assign': np.int64(33),\n",
              " 'submit assign tonight': np.int64(90),\n",
              " 'send file': np.int64(83),\n",
              " 'file discuss': np.int64(31),\n",
              " 'send file discuss': np.int64(84),\n",
              " 'exclus deal': np.int64(29),\n",
              " 'deal buy': np.int64(22),\n",
              " 'buy one': np.int64(10),\n",
              " 'one get': np.int64(67),\n",
              " 'get one': np.int64(39),\n",
              " 'one free': np.int64(65),\n",
              " 'free hurri': np.int64(36),\n",
              " 'exclus deal buy': np.int64(30),\n",
              " 'deal buy one': np.int64(23),\n",
              " 'buy one get': np.int64(11),\n",
              " 'one get one': np.int64(68),\n",
              " 'get one free': np.int64(40),\n",
              " 'one free hurri': np.int64(66),\n",
              " 'scam realli': np.int64(81),\n",
              " 'realli big': np.int64(75),\n",
              " 'big act': np.int64(6),\n",
              " 'act fast': np.int64(0),\n",
              " 'scam realli big': np.int64(82),\n",
              " 'realli big act': np.int64(76),\n",
              " 'big act fast': np.int64(7),\n",
              " 'congratul free': np.int64(20),\n",
              " 'free iphon': np.int64(37),\n",
              " 'iphon click': np.int64(51),\n",
              " 'click claim': np.int64(14),\n",
              " 'congratul free iphon': np.int64(21),\n",
              " 'free iphon click': np.int64(38),\n",
              " 'iphon click claim': np.int64(52)}"
            ]
          },
          "metadata": {},
          "execution_count": 29
        }
      ]
    },
    {
      "cell_type": "code",
      "source": [
        "X"
      ],
      "metadata": {
        "colab": {
          "base_uri": "https://localhost:8080/"
        },
        "id": "qsNLvs1A27Am",
        "outputId": "edfd5275-5bc5-4275-8e8a-00e86f22ca6e"
      },
      "execution_count": 30,
      "outputs": [
        {
          "output_type": "execute_result",
          "data": {
            "text/plain": [
              "array([[0, 1, 1, 0, 0, 0, 0, 0, 0, 0, 0, 0, 0, 0, 0, 0, 0, 0, 0, 0, 0, 0, 0, 0, 0, 0, 0, 0, 0, 0, ..., 0, 0, 0, 0, 0, 0, 0, 0, 0, 0, 0, 0, 0, 0, 0, 0, 0, 0, 0, 0, 0, 0, 0, 0, 1, 0, 0, 0, 0, 0],\n",
              "       [0, 0, 0, 0, 1, 1, 0, 0, 0, 0, 0, 0, 0, 0, 0, 0, 0, 0, 0, 0, 0, 0, 0, 0, 1, 1, 0, 0, 0, 0, ..., 0, 1, 1, 0, 0, 0, 0, 0, 0, 1, 1, 0, 0, 0, 0, 1, 0, 0, 0, 0, 0, 0, 0, 0, 0, 0, 0, 0, 0, 0],\n",
              "       [0, 1, 1, 0, 0, 0, 0, 0, 0, 0, 0, 0, 0, 0, 0, 0, 0, 0, 0, 0, 0, 0, 0, 0, 0, 0, 0, 0, 0, 0, ..., 0, 0, 0, 0, 0, 0, 0, 0, 0, 0, 0, 0, 0, 0, 0, 0, 0, 0, 0, 0, 0, 0, 0, 0, 1, 0, 0, 0, 0, 0],\n",
              "       [0, 0, 0, 0, 0, 0, 0, 0, 0, 0, 0, 0, 1, 1, 0, 0, 0, 0, 0, 0, 0, 0, 0, 0, 0, 0, 0, 0, 1, 0, ..., 0, 0, 0, 0, 0, 0, 0, 0, 0, 0, 0, 0, 0, 0, 0, 0, 0, 0, 0, 0, 0, 0, 0, 0, 0, 0, 0, 0, 0, 0],\n",
              "       [0, 0, 0, 0, 1, 1, 0, 0, 0, 0, 0, 0, 0, 0, 0, 0, 0, 0, 0, 0, 0, 0, 0, 0, 1, 1, 0, 0, 0, 0, ..., 0, 1, 1, 0, 0, 0, 0, 0, 0, 1, 1, 0, 0, 0, 0, 1, 0, 0, 0, 0, 0, 0, 0, 0, 0, 0, 0, 0, 0, 0],\n",
              "       [0, 0, 0, 0, 0, 0, 0, 0, 0, 0, 0, 0, 0, 0, 0, 1, 0, 0, 0, 0, 0, 0, 0, 0, 0, 0, 0, 0, 0, 0, ..., 0, 0, 0, 0, 0, 0, 0, 0, 0, 0, 0, 0, 0, 0, 0, 0, 1, 1, 0, 0, 0, 0, 0, 0, 0, 0, 0, 0, 0, 0],\n",
              "       [0, 0, 0, 0, 0, 0, 0, 0, 0, 0, 0, 0, 0, 0, 0, 1, 0, 0, 0, 0, 0, 0, 0, 0, 0, 0, 0, 0, 0, 0, ..., 0, 0, 0, 0, 0, 0, 0, 0, 0, 0, 0, 0, 0, 0, 0, 0, 1, 1, 0, 0, 0, 0, 0, 0, 0, 0, 0, 0, 0, 0],\n",
              "       [0, 0, 0, 0, 0, 0, 0, 0, 0, 0, 0, 0, 0, 0, 0, 0, 0, 0, 0, 0, 0, 0, 0, 0, 0, 0, 0, 0, 0, 0, ..., 0, 0, 0, 0, 0, 0, 0, 0, 0, 0, 0, 0, 0, 0, 0, 0, 0, 0, 0, 0, 0, 0, 0, 0, 0, 0, 0, 0, 0, 0],\n",
              "       [0, 0, 0, 0, 0, 0, 0, 0, 0, 0, 0, 0, 1, 1, 0, 0, 0, 0, 0, 0, 0, 0, 0, 0, 0, 0, 0, 0, 1, 0, ..., 0, 0, 0, 0, 0, 0, 0, 0, 0, 0, 0, 0, 0, 0, 0, 0, 0, 0, 0, 0, 0, 0, 0, 0, 0, 0, 0, 0, 0, 0],\n",
              "       [0, 0, 0, 0, 0, 0, 0, 0, 1, 1, 0, 0, 0, 0, 0, 0, 0, 0, 0, 0, 0, 0, 0, 0, 0, 0, 0, 0, 0, 0, ..., 0, 0, 0, 0, 0, 0, 0, 0, 0, 0, 0, 0, 0, 0, 0, 0, 0, 0, 0, 0, 0, 0, 0, 0, 0, 0, 0, 0, 0, 1],\n",
              "       [0, 0, 0, 0, 0, 0, 0, 0, 1, 1, 0, 0, 0, 0, 0, 0, 0, 0, 0, 0, 0, 0, 0, 0, 0, 0, 0, 0, 0, 0, ..., 0, 0, 0, 0, 0, 0, 0, 0, 0, 0, 0, 0, 0, 0, 0, 0, 0, 0, 0, 0, 0, 0, 0, 0, 0, 0, 0, 0, 0, 1],\n",
              "       [0, 0, 0, 0, 1, 1, 0, 0, 0, 0, 0, 0, 0, 0, 0, 0, 0, 0, 0, 0, 0, 0, 0, 0, 1, 1, 0, 0, 0, 0, ..., 0, 1, 1, 0, 0, 0, 0, 0, 0, 1, 1, 0, 0, 0, 0, 1, 0, 0, 0, 0, 0, 0, 0, 0, 0, 0, 0, 0, 0, 0],\n",
              "       [0, 0, 0, 0, 0, 0, 0, 0, 0, 0, 0, 0, 0, 0, 0, 0, 0, 0, 0, 0, 0, 0, 0, 0, 0, 0, 0, 0, 0, 0, ..., 0, 0, 0, 0, 0, 0, 0, 0, 0, 0, 0, 0, 0, 0, 0, 0, 0, 0, 0, 0, 0, 0, 0, 0, 0, 0, 0, 0, 0, 0],\n",
              "       [0, 1, 1, 0, 0, 0, 0, 0, 0, 0, 0, 0, 0, 0, 0, 0, 0, 0, 0, 0, 0, 0, 0, 0, 0, 0, 0, 0, 0, 0, ..., 0, 0, 0, 0, 0, 0, 0, 0, 0, 0, 0, 0, 0, 0, 0, 0, 0, 0, 0, 0, 0, 0, 0, 0, 1, 0, 0, 0, 0, 0],\n",
              "       [0, 1, 1, 0, 0, 0, 0, 0, 0, 0, 0, 0, 0, 0, 0, 0, 0, 0, 0, 0, 0, 0, 0, 0, 0, 0, 0, 0, 0, 0, ..., 0, 0, 0, 0, 0, 0, 0, 0, 0, 0, 0, 0, 0, 0, 0, 0, 0, 0, 0, 0, 0, 0, 0, 0, 1, 0, 0, 0, 0, 0],\n",
              "       [0, 0, 0, 0, 0, 0, 0, 0, 0, 0, 0, 0, 0, 0, 0, 0, 0, 0, 0, 0, 0, 0, 0, 0, 0, 0, 0, 0, 0, 0, ..., 0, 0, 0, 0, 0, 0, 0, 0, 0, 0, 0, 0, 0, 0, 0, 0, 0, 0, 0, 0, 0, 0, 0, 0, 0, 0, 0, 0, 0, 0],\n",
              "       [0, 0, 0, 0, 0, 0, 0, 0, 0, 0, 0, 0, 0, 0, 0, 0, 1, 1, 0, 0, 0, 0, 0, 0, 0, 0, 1, 1, 0, 0, ..., 0, 0, 0, 0, 0, 0, 0, 0, 0, 0, 0, 0, 0, 0, 0, 0, 0, 0, 0, 0, 0, 1, 0, 0, 0, 1, 1, 1, 1, 0],\n",
              "       [0, 0, 0, 0, 0, 0, 0, 0, 1, 1, 0, 0, 0, 0, 0, 0, 0, 0, 0, 0, 0, 0, 0, 0, 0, 0, 0, 0, 0, 0, ..., 0, 0, 0, 0, 0, 0, 0, 0, 0, 0, 0, 0, 0, 0, 0, 0, 0, 0, 0, 0, 0, 0, 0, 0, 0, 0, 0, 0, 0, 1],\n",
              "       [0, 0, 0, 0, 0, 0, 0, 0, 0, 0, 0, 0, 1, 1, 0, 0, 0, 0, 0, 0, 0, 0, 0, 0, 0, 0, 0, 0, 1, 0, ..., 0, 0, 0, 0, 0, 0, 0, 0, 0, 0, 0, 0, 0, 0, 0, 0, 0, 0, 0, 0, 0, 0, 0, 0, 0, 0, 0, 0, 0, 0],\n",
              "       [0, 0, 0, 0, 0, 0, 0, 0, 0, 0, 0, 0, 0, 0, 0, 0, 0, 0, 0, 0, 0, 0, 0, 0, 0, 0, 0, 0, 0, 0, ..., 1, 0, 0, 0, 0, 0, 0, 0, 0, 0, 0, 0, 0, 0, 0, 0, 0, 0, 1, 0, 0, 0, 0, 0, 0, 0, 0, 0, 0, 0],\n",
              "       [0, 0, 0, 0, 0, 0, 0, 0, 0, 0, 0, 0, 0, 0, 0, 0, 0, 0, 0, 0, 0, 0, 0, 0, 0, 0, 0, 0, 0, 0, ..., 0, 0, 0, 0, 0, 0, 0, 0, 0, 0, 0, 0, 0, 0, 0, 0, 0, 0, 0, 0, 0, 0, 0, 0, 0, 0, 0, 0, 0, 0],\n",
              "       [0, 0, 0, 0, 0, 0, 0, 0, 0, 0, 0, 0, 0, 0, 0, 0, 0, 0, 1, 1, 0, 0, 0, 0, 0, 0, 0, 0, 0, 0, ..., 0, 0, 0, 0, 0, 0, 0, 0, 0, 0, 0, 0, 0, 0, 0, 0, 0, 0, 0, 0, 0, 0, 1, 1, 0, 0, 0, 0, 0, 0],\n",
              "       [0, 0, 0, 0, 0, 0, 0, 0, 0, 0, 0, 0, 0, 0, 0, 0, 0, 0, 1, 1, 0, 0, 0, 0, 0, 0, 0, 0, 0, 0, ..., 0, 0, 0, 0, 0, 0, 0, 0, 0, 0, 0, 0, 0, 0, 0, 0, 0, 0, 0, 0, 0, 0, 1, 1, 0, 0, 0, 0, 0, 0],\n",
              "       [0, 0, 0, 0, 0, 0, 0, 0, 0, 0, 0, 0, 0, 0, 0, 1, 0, 0, 0, 0, 0, 0, 0, 0, 0, 0, 0, 0, 0, 0, ..., 0, 0, 0, 0, 0, 0, 0, 0, 0, 0, 0, 0, 0, 0, 0, 0, 1, 1, 0, 0, 0, 0, 0, 0, 0, 0, 0, 0, 0, 0],\n",
              "       [0, 0, 0, 0, 0, 0, 0, 0, 0, 0, 0, 0, 0, 0, 0, 0, 0, 0, 0, 0, 0, 0, 0, 0, 0, 0, 0, 0, 0, 0, ..., 0, 0, 0, 0, 0, 0, 0, 0, 0, 0, 0, 0, 0, 0, 0, 0, 0, 0, 0, 0, 0, 0, 0, 0, 0, 0, 0, 0, 0, 0],\n",
              "       [0, 1, 1, 0, 0, 0, 0, 0, 0, 0, 0, 0, 0, 0, 0, 0, 0, 0, 0, 0, 0, 0, 0, 0, 0, 0, 0, 0, 0, 0, ..., 0, 0, 0, 0, 0, 0, 0, 0, 0, 0, 0, 0, 0, 0, 0, 0, 0, 0, 0, 0, 0, 0, 0, 0, 1, 0, 0, 0, 0, 0],\n",
              "       [0, 0, 0, 0, 0, 0, 0, 0, 0, 0, 0, 0, 0, 0, 0, 0, 0, 0, 0, 0, 0, 0, 0, 0, 0, 0, 0, 0, 0, 0, ..., 1, 0, 0, 0, 0, 0, 0, 0, 0, 0, 0, 0, 0, 0, 0, 0, 0, 0, 1, 0, 0, 0, 0, 0, 0, 0, 0, 0, 0, 0],\n",
              "       [0, 1, 1, 0, 0, 0, 0, 0, 0, 0, 0, 0, 0, 0, 0, 0, 0, 0, 0, 0, 0, 0, 0, 0, 0, 0, 0, 0, 0, 0, ..., 0, 0, 0, 0, 0, 0, 0, 0, 0, 0, 0, 0, 0, 0, 0, 0, 0, 0, 0, 0, 0, 0, 0, 0, 1, 0, 0, 0, 0, 0],\n",
              "       [0, 0, 0, 0, 0, 0, 0, 0, 0, 0, 0, 0, 0, 0, 0, 0, 0, 0, 0, 0, 0, 0, 0, 0, 0, 0, 0, 0, 0, 0, ..., 0, 0, 0, 0, 0, 0, 0, 0, 0, 0, 0, 0, 0, 0, 0, 0, 0, 0, 0, 0, 0, 0, 0, 0, 0, 0, 0, 0, 0, 0],\n",
              "       [0, 0, 0, 0, 1, 1, 0, 0, 0, 0, 0, 0, 0, 0, 0, 0, 0, 0, 0, 0, 0, 0, 0, 0, 1, 1, 0, 0, 0, 0, ..., 0, 1, 1, 0, 0, 0, 0, 0, 0, 1, 1, 0, 0, 0, 0, 1, 0, 0, 0, 0, 0, 0, 0, 0, 0, 0, 0, 0, 0, 0],\n",
              "       ...,\n",
              "       [1, 0, 0, 0, 0, 0, 1, 1, 0, 0, 0, 0, 0, 0, 0, 0, 0, 0, 0, 0, 0, 0, 0, 0, 0, 0, 0, 0, 0, 0, ..., 0, 0, 0, 0, 0, 1, 1, 0, 0, 0, 0, 1, 1, 0, 0, 0, 0, 0, 0, 0, 0, 0, 0, 0, 0, 0, 0, 0, 0, 0],\n",
              "       [0, 0, 0, 0, 0, 0, 0, 0, 0, 0, 0, 0, 0, 0, 0, 1, 0, 0, 0, 0, 0, 0, 0, 0, 0, 0, 0, 0, 0, 0, ..., 0, 0, 0, 0, 0, 0, 0, 0, 0, 0, 0, 0, 0, 0, 0, 0, 1, 1, 0, 0, 0, 0, 0, 0, 0, 0, 0, 0, 0, 0],\n",
              "       [0, 1, 1, 0, 0, 0, 0, 0, 0, 0, 0, 0, 0, 0, 0, 0, 0, 0, 0, 0, 0, 0, 0, 0, 0, 0, 0, 0, 0, 0, ..., 0, 0, 0, 0, 0, 0, 0, 0, 0, 0, 0, 0, 0, 0, 0, 0, 0, 0, 0, 0, 0, 0, 0, 0, 1, 0, 0, 0, 0, 0],\n",
              "       [0, 0, 0, 0, 0, 0, 0, 0, 0, 0, 0, 0, 0, 0, 0, 0, 0, 0, 1, 1, 0, 0, 0, 0, 0, 0, 0, 0, 0, 0, ..., 0, 0, 0, 0, 0, 0, 0, 0, 0, 0, 0, 0, 0, 0, 0, 0, 0, 0, 0, 0, 0, 0, 1, 1, 0, 0, 0, 0, 0, 0],\n",
              "       [0, 0, 0, 0, 0, 0, 0, 0, 0, 0, 0, 0, 1, 1, 0, 0, 0, 0, 0, 0, 0, 0, 0, 0, 0, 0, 0, 0, 1, 0, ..., 0, 0, 0, 0, 0, 0, 0, 0, 0, 0, 0, 0, 0, 0, 0, 0, 0, 0, 0, 0, 0, 0, 0, 0, 0, 0, 0, 0, 0, 0],\n",
              "       [0, 0, 0, 0, 0, 0, 0, 0, 0, 0, 0, 0, 0, 0, 0, 0, 0, 0, 0, 0, 0, 0, 0, 0, 0, 0, 0, 0, 0, 0, ..., 0, 0, 0, 1, 1, 0, 0, 1, 1, 0, 0, 0, 0, 0, 0, 0, 0, 0, 0, 0, 0, 0, 0, 0, 0, 0, 0, 0, 0, 0],\n",
              "       [0, 0, 0, 0, 0, 0, 0, 0, 1, 1, 0, 0, 0, 0, 0, 0, 0, 0, 0, 0, 0, 0, 0, 0, 0, 0, 0, 0, 0, 0, ..., 0, 0, 0, 0, 0, 0, 0, 0, 0, 0, 0, 0, 0, 0, 0, 0, 0, 0, 0, 0, 0, 0, 0, 0, 0, 0, 0, 0, 0, 1],\n",
              "       [0, 0, 0, 0, 1, 1, 0, 0, 0, 0, 0, 0, 0, 0, 0, 0, 0, 0, 0, 0, 0, 0, 0, 0, 1, 1, 0, 0, 0, 0, ..., 0, 1, 1, 0, 0, 0, 0, 0, 0, 1, 1, 0, 0, 0, 0, 1, 0, 0, 0, 0, 0, 0, 0, 0, 0, 0, 0, 0, 0, 0],\n",
              "       [0, 0, 0, 0, 0, 0, 0, 0, 0, 0, 0, 0, 1, 1, 0, 0, 0, 0, 0, 0, 0, 0, 0, 0, 0, 0, 0, 0, 1, 0, ..., 0, 0, 0, 0, 0, 0, 0, 0, 0, 0, 0, 0, 0, 0, 0, 0, 0, 0, 0, 0, 0, 0, 0, 0, 0, 0, 0, 0, 0, 0],\n",
              "       [0, 0, 0, 0, 0, 0, 0, 0, 0, 0, 0, 0, 0, 0, 0, 0, 0, 0, 0, 0, 0, 0, 0, 0, 0, 0, 0, 0, 0, 0, ..., 0, 0, 0, 1, 1, 0, 0, 1, 1, 0, 0, 0, 0, 0, 0, 0, 0, 0, 0, 0, 0, 0, 0, 0, 0, 0, 0, 0, 0, 0],\n",
              "       [1, 0, 0, 0, 0, 0, 1, 1, 0, 0, 0, 0, 0, 0, 0, 0, 0, 0, 0, 0, 0, 0, 0, 0, 0, 0, 0, 0, 0, 0, ..., 0, 0, 0, 0, 0, 1, 1, 0, 0, 0, 0, 1, 1, 0, 0, 0, 0, 0, 0, 0, 0, 0, 0, 0, 0, 0, 0, 0, 0, 0],\n",
              "       [0, 1, 1, 0, 0, 0, 0, 0, 0, 0, 0, 0, 0, 0, 0, 0, 0, 0, 0, 0, 0, 0, 0, 0, 0, 0, 0, 0, 0, 0, ..., 0, 0, 0, 0, 0, 0, 0, 0, 0, 0, 0, 0, 0, 0, 0, 0, 0, 0, 0, 0, 0, 0, 0, 0, 1, 0, 0, 0, 0, 0],\n",
              "       [0, 0, 0, 0, 0, 0, 0, 0, 0, 0, 0, 0, 0, 0, 0, 0, 0, 0, 0, 0, 0, 0, 0, 0, 0, 0, 0, 0, 0, 0, ..., 1, 0, 0, 0, 0, 0, 0, 0, 0, 0, 0, 0, 0, 0, 0, 0, 0, 0, 1, 0, 0, 0, 0, 0, 0, 0, 0, 0, 0, 0],\n",
              "       [0, 0, 0, 0, 0, 0, 0, 0, 0, 0, 0, 0, 0, 0, 0, 0, 0, 0, 0, 0, 0, 0, 0, 0, 0, 0, 0, 0, 0, 0, ..., 0, 0, 0, 0, 0, 0, 0, 0, 0, 0, 0, 0, 0, 0, 0, 0, 0, 0, 0, 0, 0, 0, 0, 0, 0, 0, 0, 0, 0, 0],\n",
              "       [0, 0, 0, 0, 0, 0, 0, 0, 0, 0, 0, 0, 0, 0, 1, 0, 0, 0, 0, 0, 1, 1, 0, 0, 0, 0, 0, 0, 0, 0, ..., 0, 0, 0, 0, 0, 0, 0, 0, 0, 0, 0, 0, 0, 0, 0, 0, 0, 0, 0, 0, 0, 0, 0, 0, 0, 0, 0, 0, 0, 0],\n",
              "       [0, 1, 1, 0, 0, 0, 0, 0, 0, 0, 0, 0, 0, 0, 0, 0, 0, 0, 0, 0, 0, 0, 0, 0, 0, 0, 0, 0, 0, 0, ..., 0, 0, 0, 0, 0, 0, 0, 0, 0, 0, 0, 0, 0, 0, 0, 0, 0, 0, 0, 0, 0, 0, 0, 0, 1, 0, 0, 0, 0, 0],\n",
              "       [0, 0, 0, 0, 0, 0, 0, 0, 0, 0, 0, 0, 0, 0, 0, 0, 0, 0, 0, 0, 0, 0, 0, 0, 0, 0, 0, 0, 0, 0, ..., 0, 0, 0, 0, 0, 0, 0, 0, 0, 0, 0, 0, 0, 0, 0, 0, 0, 0, 0, 0, 0, 0, 0, 0, 0, 0, 0, 0, 0, 0],\n",
              "       [0, 0, 0, 0, 1, 1, 0, 0, 0, 0, 0, 0, 0, 0, 0, 0, 0, 0, 0, 0, 0, 0, 0, 0, 1, 1, 0, 0, 0, 0, ..., 0, 1, 1, 0, 0, 0, 0, 0, 0, 1, 1, 0, 0, 0, 0, 1, 0, 0, 0, 0, 0, 0, 0, 0, 0, 0, 0, 0, 0, 0],\n",
              "       [0, 0, 0, 0, 0, 0, 0, 0, 0, 0, 0, 0, 1, 1, 0, 0, 0, 0, 0, 0, 0, 0, 0, 0, 0, 0, 0, 0, 1, 0, ..., 0, 0, 0, 0, 0, 0, 0, 0, 0, 0, 0, 0, 0, 0, 0, 0, 0, 0, 0, 0, 0, 0, 0, 0, 0, 0, 0, 0, 0, 0],\n",
              "       [0, 1, 1, 0, 0, 0, 0, 0, 0, 0, 0, 0, 0, 0, 0, 0, 0, 0, 0, 0, 0, 0, 0, 0, 0, 0, 0, 0, 0, 0, ..., 0, 0, 0, 0, 0, 0, 0, 0, 0, 0, 0, 0, 0, 0, 0, 0, 0, 0, 0, 0, 0, 0, 0, 0, 1, 0, 0, 0, 0, 0],\n",
              "       [0, 0, 0, 0, 1, 1, 0, 0, 0, 0, 0, 0, 0, 0, 0, 0, 0, 0, 0, 0, 0, 0, 0, 0, 1, 1, 0, 0, 0, 0, ..., 0, 1, 1, 0, 0, 0, 0, 0, 0, 1, 1, 0, 0, 0, 0, 1, 0, 0, 0, 0, 0, 0, 0, 0, 0, 0, 0, 0, 0, 0],\n",
              "       [0, 1, 1, 0, 0, 0, 0, 0, 0, 0, 0, 0, 0, 0, 0, 0, 0, 0, 0, 0, 0, 0, 0, 0, 0, 0, 0, 0, 0, 0, ..., 0, 0, 0, 0, 0, 0, 0, 0, 0, 0, 0, 0, 0, 0, 0, 0, 0, 0, 0, 0, 0, 0, 0, 0, 1, 0, 0, 0, 0, 0],\n",
              "       [0, 0, 0, 0, 0, 0, 0, 0, 0, 0, 0, 0, 0, 0, 0, 0, 0, 0, 0, 0, 0, 0, 0, 0, 0, 0, 0, 0, 0, 0, ..., 0, 0, 0, 0, 0, 0, 0, 0, 0, 0, 0, 0, 0, 1, 1, 0, 0, 0, 0, 0, 0, 0, 0, 0, 0, 0, 0, 0, 0, 0],\n",
              "       [0, 0, 0, 0, 0, 0, 0, 0, 0, 0, 0, 0, 1, 1, 0, 0, 0, 0, 0, 0, 0, 0, 0, 0, 0, 0, 0, 0, 1, 0, ..., 0, 0, 0, 0, 0, 0, 0, 0, 0, 0, 0, 0, 0, 0, 0, 0, 0, 0, 0, 0, 0, 0, 0, 0, 0, 0, 0, 0, 0, 0],\n",
              "       [0, 0, 0, 1, 0, 0, 0, 0, 0, 0, 0, 0, 0, 0, 0, 0, 0, 0, 0, 0, 0, 0, 0, 0, 0, 0, 0, 0, 0, 0, ..., 0, 0, 0, 0, 0, 0, 0, 0, 0, 0, 0, 0, 0, 0, 0, 0, 0, 0, 0, 1, 1, 0, 0, 0, 0, 0, 0, 0, 0, 0],\n",
              "       [0, 0, 0, 0, 0, 0, 0, 0, 1, 1, 0, 0, 0, 0, 0, 0, 0, 0, 0, 0, 0, 0, 0, 0, 0, 0, 0, 0, 0, 0, ..., 0, 0, 0, 0, 0, 0, 0, 0, 0, 0, 0, 0, 0, 0, 0, 0, 0, 0, 0, 0, 0, 0, 0, 0, 0, 0, 0, 0, 0, 1],\n",
              "       [0, 0, 0, 0, 0, 0, 0, 0, 0, 0, 0, 0, 0, 0, 0, 0, 0, 0, 0, 0, 0, 0, 0, 0, 0, 0, 0, 0, 0, 0, ..., 0, 0, 0, 1, 1, 0, 0, 1, 1, 0, 0, 0, 0, 0, 0, 0, 0, 0, 0, 0, 0, 0, 0, 0, 0, 0, 0, 0, 0, 0],\n",
              "       [0, 0, 0, 0, 0, 0, 0, 0, 0, 0, 0, 0, 0, 0, 0, 0, 0, 0, 0, 0, 0, 0, 0, 0, 0, 0, 0, 0, 0, 0, ..., 0, 0, 0, 1, 1, 0, 0, 1, 1, 0, 0, 0, 0, 0, 0, 0, 0, 0, 0, 0, 0, 0, 0, 0, 0, 0, 0, 0, 0, 0],\n",
              "       [0, 0, 0, 0, 0, 0, 0, 0, 0, 0, 0, 0, 0, 0, 0, 0, 1, 1, 0, 0, 0, 0, 0, 0, 0, 0, 1, 1, 0, 0, ..., 0, 0, 0, 0, 0, 0, 0, 0, 0, 0, 0, 0, 0, 0, 0, 0, 0, 0, 0, 0, 0, 1, 0, 0, 0, 1, 1, 1, 1, 0],\n",
              "       [0, 0, 0, 0, 0, 0, 0, 0, 0, 0, 0, 0, 0, 0, 0, 0, 0, 0, 0, 0, 0, 0, 0, 0, 0, 0, 0, 0, 0, 0, ..., 1, 0, 0, 0, 0, 0, 0, 0, 0, 0, 0, 0, 0, 0, 0, 0, 0, 0, 1, 0, 0, 0, 0, 0, 0, 0, 0, 0, 0, 0]])"
            ]
          },
          "metadata": {},
          "execution_count": 30
        }
      ]
    },
    {
      "cell_type": "code",
      "source": [],
      "metadata": {
        "id": "4jRYgFOA2-dd"
      },
      "execution_count": null,
      "outputs": []
    }
  ]
}